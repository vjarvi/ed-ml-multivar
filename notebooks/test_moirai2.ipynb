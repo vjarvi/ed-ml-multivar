{
 "cells": [
  {
   "cell_type": "code",
   "execution_count": 16,
   "id": "e77ed9e7",
   "metadata": {
    "tags": [
     "parameters"
    ]
   },
   "outputs": [],
   "source": [
    "# Parameters\n",
    "CONTEXTLENGTH = 12840  # will be overridden by papermill"
   ]
  },
  {
   "cell_type": "markdown",
   "id": "fe25f6fc",
   "metadata": {},
   "source": [
    "This notebook loads moirai2 model and makes predictions using it. Data is loaded from data/interim and stored to data/processed/prediction_matrices\n",
    "source /home/valtti/code/ed-ml-multivar/uni2ts/venv/bin/activate"
   ]
  },
  {
   "cell_type": "code",
   "execution_count": 17,
   "id": "80c9c7c4",
   "metadata": {},
   "outputs": [],
   "source": [
    "#import torch\n",
    "#import matplotlib\n",
    "#matplotlib.use('Agg')  # Use non-interactive backend\n",
    "import matplotlib.pyplot as plt\n",
    "import pandas as pd\n",
    "from gluonts.dataset.pandas import PandasDataset\n",
    "from gluonts.dataset.split import split\n",
    "from gluonts.dataset.util import to_pandas\n",
    "from huggingface_hub import hf_hub_download\n",
    "import numpy as np\n",
    "import logging\n",
    "from pyprojroot import here\n",
    "\n",
    "import sys\n",
    "sys.path.append(str(here() / 'scripts'))\n",
    "sys.path.append(str(here() / 'uni2ts'))\n",
    "\n",
    "from utils import (get_data, save)\n",
    "#from uni2ts.eval_util.plot import plot_single\n",
    "from uni2ts.model.moirai import MoiraiForecast, MoiraiModule\n",
    "from uni2ts.model.moirai_moe import MoiraiMoEForecast, MoiraiMoEModule\n",
    "from uni2ts.model.moirai2 import Moirai2Forecast, Moirai2Module"
   ]
  },
  {
   "cell_type": "code",
   "execution_count": 18,
   "id": "44662e72",
   "metadata": {},
   "outputs": [],
   "source": [
    "MAXMODELCONTEXT= 12840 # max context length for this model (no context length limit for this model)\n",
    "MAXCONTEXT = 12840 # max context length for this dataset (2017-01-01 - 2018-06-19)\n",
    "if CONTEXTLENGTH > MAXMODELCONTEXT:\n",
    "    CONTEXTLENGTH = MAXMODELCONTEXT\n",
    "\n",
    "if CONTEXTLENGTH > MAXCONTEXT:\n",
    "    CONTEXTLENGTH = MAXCONTEXT\n",
    "\n",
    "MODEL = 'moirai2'\n",
    "TARGET = 'occ'\n",
    "FEATURESET = 'u'\n",
    "TESTNAME = f'{TARGET}-{MODEL}-{FEATURESET}-{CONTEXTLENGTH}'\n",
    "TESTSTART = pd.Timestamp('20180620')\n",
    "TESTSIZE = 365*24"
   ]
  },
  {
   "cell_type": "code",
   "execution_count": 19,
   "id": "bfc71fff",
   "metadata": {},
   "outputs": [],
   "source": [
    "logging.basicConfig(\n",
    "        format='%(asctime)s - %(message)s', \n",
    "        level=logging.INFO,\n",
    "        filename=here() / f\"logs/logger/{TESTNAME}.log\",      \n",
    "        filemode='w'\n",
    "        )\n",
    "logging.info('Starting test.')\n",
    "logging.info(f'MODEL: {MODEL} TARGET: {TARGET} FEATURESET:'\n",
    "     f'{FEATURESET} CONTEXTLENGTH: {CONTEXTLENGTH}')"
   ]
  },
  {
   "cell_type": "code",
   "execution_count": 20,
   "id": "1c1e4d4b",
   "metadata": {},
   "outputs": [],
   "source": [
    "data = get_data(TARGET, MODEL)\n",
    "#y_context = get_y_context(data, TARGET, CONTEXTLENGTH, TESTSTART)\n",
    "#pc, fc = get_x(data, FEATURESET)\n"
   ]
  },
  {
   "cell_type": "code",
   "execution_count": 21,
   "id": "9f796921",
   "metadata": {},
   "outputs": [],
   "source": [
    "cd = {\n",
    "        'occ' : 'Target:Occupancy',\n",
    "        'arr' : 'Target:Arrivals'\n",
    "    }\n",
    "target_name = cd[TARGET]\n",
    "y = data[target_name]\n",
    "\n",
    "y = PandasDataset(y, target='target')\n",
    "\n",
    "_, test_template = split(y, offset=-TESTSIZE)\n",
    "y_test = test_template.generate_instances(\n",
    "    prediction_length=24,\n",
    "    windows=TESTSIZE // 24,\n",
    "    distance=24\n",
    ")"
   ]
  },
  {
   "cell_type": "code",
   "execution_count": 22,
   "id": "9f523d1b",
   "metadata": {},
   "outputs": [
    {
     "data": {
      "text/plain": [
       "PandasDataset<size=1, freq=H, num_feat_dynamic_real=0, num_past_feat_dynamic_real=0, num_feat_static_real=0, num_feat_static_cat=0, static_cardinalities=[]>"
      ]
     },
     "execution_count": 22,
     "metadata": {},
     "output_type": "execute_result"
    }
   ],
   "source": [
    "test_template.dataset"
   ]
  },
  {
   "cell_type": "code",
   "execution_count": 23,
   "id": "c4c0a99c",
   "metadata": {},
   "outputs": [
    {
     "name": "stdout",
     "output_type": "stream",
     "text": [
      "dict_keys(['start', 'target'])\n",
      "start: 2017-01-01 00:00 len(target): 21600\n",
      "index range: 2017-01-01 00:00 → 2019-06-19 23:00 | freq: H\n"
     ]
    },
    {
     "data": {
      "text/plain": [
       "2019-06-18 00:00    21.0\n",
       "2019-06-18 01:00    16.0\n",
       "2019-06-18 02:00    18.0\n",
       "2019-06-18 03:00    13.0\n",
       "2019-06-18 04:00     9.0\n",
       "2019-06-18 05:00     5.0\n",
       "2019-06-18 06:00     8.0\n",
       "2019-06-18 07:00     8.0\n",
       "2019-06-18 08:00    16.0\n",
       "2019-06-18 09:00    24.0\n",
       "2019-06-18 10:00    31.0\n",
       "2019-06-18 11:00    44.0\n",
       "2019-06-18 12:00    53.0\n",
       "2019-06-18 13:00    58.0\n",
       "2019-06-18 14:00    67.0\n",
       "2019-06-18 15:00    74.0\n",
       "2019-06-18 16:00    71.0\n",
       "2019-06-18 17:00    73.0\n",
       "2019-06-18 18:00    63.0\n",
       "2019-06-18 19:00    56.0\n",
       "2019-06-18 20:00    52.0\n",
       "2019-06-18 21:00    46.0\n",
       "2019-06-18 22:00    42.0\n",
       "2019-06-18 23:00    40.0\n",
       "2019-06-19 00:00    34.0\n",
       "2019-06-19 01:00    24.0\n",
       "2019-06-19 02:00    19.0\n",
       "2019-06-19 03:00    11.0\n",
       "2019-06-19 04:00     6.0\n",
       "2019-06-19 05:00     7.0\n",
       "2019-06-19 06:00     8.0\n",
       "2019-06-19 07:00    10.0\n",
       "2019-06-19 08:00    19.0\n",
       "2019-06-19 09:00    23.0\n",
       "2019-06-19 10:00    29.0\n",
       "2019-06-19 11:00    39.0\n",
       "2019-06-19 12:00    45.0\n",
       "2019-06-19 13:00    56.0\n",
       "2019-06-19 14:00    62.0\n",
       "2019-06-19 15:00    61.0\n",
       "2019-06-19 16:00    59.0\n",
       "2019-06-19 17:00    60.0\n",
       "2019-06-19 18:00    55.0\n",
       "2019-06-19 19:00    52.0\n",
       "2019-06-19 20:00    58.0\n",
       "2019-06-19 21:00    51.0\n",
       "2019-06-19 22:00    38.0\n",
       "2019-06-19 23:00    36.0\n",
       "Freq: H, dtype: float64"
      ]
     },
     "metadata": {},
     "output_type": "display_data"
    }
   ],
   "source": [
    "y = test_template.dataset\n",
    "entry = next(iter(y))  # y is PandasDataset(...)\n",
    "print(entry.keys())\n",
    "print(\"start:\", entry[\"start\"], \"len(target):\", len(entry[\"target\"]))\n",
    "\n",
    "s = to_pandas(entry)  # pandas Series with DateTimeIndex\n",
    "print(\"index range:\", s.index.min(), \"→\", s.index.max(), \"| freq:\", s.index.freqstr)\n",
    "display(s.tail(48))  # last 2 days for a quick sanity check"
   ]
  },
  {
   "cell_type": "code",
   "execution_count": 24,
   "id": "1722e05f",
   "metadata": {},
   "outputs": [],
   "source": [
    "if MODEL == \"moirai\":\n",
    "    model = MoiraiForecast(\n",
    "        module=MoiraiModule.from_pretrained(f\"Salesforce/moirai-1.1-R-small\"),\n",
    "        prediction_length=24,\n",
    "        context_length=CONTEXTLENGTH,\n",
    "        patch_size=\"auto\",\n",
    "        num_samples=100,\n",
    "        target_dim=1,\n",
    "        feat_dynamic_real_dim=0,\n",
    "        past_feat_dynamic_real_dim=0,\n",
    "    )\n",
    "elif MODEL == \"moirai-moe\":\n",
    "    model = MoiraiMoEForecast(\n",
    "        module=MoiraiMoEModule.from_pretrained(f\"Salesforce/moirai-moe-1.0-R-small\"),\n",
    "        prediction_length=24,\n",
    "        context_length=CONTEXTLENGTH,\n",
    "        patch_size=\"auto\", \n",
    "        num_samples=100,\n",
    "        target_dim=1,\n",
    "        feat_dynamic_real_dim=0,\n",
    "        past_feat_dynamic_real_dim=0,\n",
    "    )\n",
    "elif MODEL == \"moirai2\":\n",
    "    model = Moirai2Forecast(\n",
    "        module=Moirai2Module.from_pretrained(\n",
    "            f\"Salesforce/moirai-2.0-R-small\",\n",
    "            ),\n",
    "        prediction_length=24,\n",
    "        context_length=CONTEXTLENGTH,\n",
    "        target_dim=1,\n",
    "        feat_dynamic_real_dim=0,\n",
    "        past_feat_dynamic_real_dim=0,\n",
    "    )\n"
   ]
  },
  {
   "cell_type": "code",
   "execution_count": 25,
   "id": "fa98b676",
   "metadata": {},
   "outputs": [],
   "source": [
    "predictor = model.create_predictor(batch_size=32)\n",
    "forecasts = predictor.predict(y_test.input)\n",
    "\n",
    "input_it = iter(y_test.input)\n",
    "label_it = iter(y_test.label)\n",
    "forecast_it = iter(forecasts)\n",
    "\n",
    "inp = next(input_it)\n",
    "label = next(label_it)\n",
    "forecast = next(forecast_it)"
   ]
  },
  {
   "cell_type": "code",
   "execution_count": 26,
   "id": "8cbf3005",
   "metadata": {},
   "outputs": [],
   "source": [
    "# Convert forecasts (which may be a generator or iterable of forecast objects) into a pandas DataFrame\n",
    "import pandas as pd\n",
    "\n",
    "# If forecasts is a generator or iterable, convert to list\n",
    "forecast_list = list(forecasts)\n",
    "\n",
    "# For each forecast, extract the mean prediction (if available), else use samples or quantiles\n",
    "def forecast_to_series(forecast):\n",
    "    if hasattr(forecast, \"mean\"):\n",
    "        return pd.Series(forecast.mean)\n",
    "    elif hasattr(forecast, \"samples\"):\n",
    "        return pd.Series(forecast.samples.mean(axis=0))\n",
    "    elif hasattr(forecast, \"quantiles\"):\n",
    "        # Use median if available\n",
    "        if \"0.5\" in forecast.quantiles:\n",
    "            return pd.Series(forecast.quantile(\"0.5\"))\n",
    "        else:\n",
    "            # Use first quantile as fallback\n",
    "            return pd.Series(forecast.quantile(forecast.quantiles[0]))\n",
    "    else:\n",
    "        # Fallback: try to convert to numpy array\n",
    "        return pd.Series(np.asarray(forecast))\n",
    "\n",
    "# Combine all forecasts into a DataFrame (each row is a forecast for one time series)\n",
    "pd_forecast = pd.DataFrame([forecast_to_series(f) for f in forecast_list])"
   ]
  },
  {
   "cell_type": "code",
   "execution_count": 27,
   "id": "e2c166da",
   "metadata": {},
   "outputs": [],
   "source": [
    "# save pd_forecast to csv file\n",
    "save(model_name=MODEL, featureset_name=FEATURESET, target_name=TARGET,\n",
    "     context_length=CONTEXTLENGTH, test_start=TESTSTART, y_pred=pd_forecast)"
   ]
  },
  {
   "cell_type": "code",
   "execution_count": 28,
   "id": "90d78055",
   "metadata": {},
   "outputs": [
    {
     "name": "stdout",
     "output_type": "stream",
     "text": [
      "Warning: File not found: /home/valtti/code/ed-ml-multivar/data/processed/prediction_matrices/50/occ-deepar-a-0.csv. Skipping DeepAR CSV comparison plot.\n"
     ]
    },
    {
     "data": {
      "image/png": "[encoded data removed]",
      "text/plain": [
       "<Figure size 1200x600 with 1 Axes>"
      ]
     },
     "metadata": {},
     "output_type": "display_data"
    }
   ],
   "source": [
    "import matplotlib.pyplot as plt\n",
    "import pandas as pd\n",
    "import os\n",
    "i =9\n",
    "\n",
    "# Plot the first day's forecast for the current model\n",
    "if isinstance(pd_forecast, pd.DataFrame):\n",
    "    # Take the first row (first day)\n",
    "    forecast_first_day = pd_forecast.iloc[i]\n",
    "else:\n",
    "    forecast_first_day = pd.Series(pd_forecast)\n",
    "\n",
    "plt.figure(figsize=(12, 6))\n",
    "plt.plot(\n",
    "    range(1, len(forecast_first_day) + 1),\n",
    "    forecast_first_day.values,\n",
    "    label=\"Current Model Forecast (first day)\",\n",
    "    marker='o'\n",
    ")\n",
    "\n",
    "# Load occ-deepar-a-0.csv from the processed prediction_matrices folder, handle missing file gracefully\n",
    "csv_path = \"/home/valtti/code/ed-ml-multivar/data/processed/prediction_matrices/50/occ-deepar-a-0.csv\"\n",
    "if os.path.exists(csv_path):\n",
    "    df_csv = pd.read_csv(csv_path)\n",
    "    # The CSV has columns: datetime, t+1, t+2, ..., t+24\n",
    "    # We'll plot the first day's forecast (first row after datetime)\n",
    "    csv_first_day = df_csv.iloc[i, 1:]  # skip datetime column, take first row\n",
    "    plt.plot(\n",
    "        range(1, len(csv_first_day) + 1),\n",
    "        csv_first_day.values,\n",
    "        label=\"DeepAR Model (occ-deepar-a-0.csv first day)\",\n",
    "        marker='x'\n",
    "    )\n",
    "else:\n",
    "    print(f\"Warning: File not found: {csv_path}. Skipping DeepAR CSV comparison plot.\")\n",
    "\n",
    "plt.xlabel(\"Forecast Horizon (t+1 to t+24)\")\n",
    "plt.ylabel(\"Predicted Occupancy\")\n",
    "plt.title(\"Forecast Comparison (First Day): Current Model vs DeepAR (occ-deepar-a-0.csv)\")\n",
    "plt.legend()\n",
    "plt.grid(True)\n",
    "plt.tight_layout()\n",
    "plt.savefig(\"forecast_comparison_first_day.pdf\")"
   ]
  },
  {
   "cell_type": "code",
   "execution_count": 29,
   "id": "10d2a14a",
   "metadata": {},
   "outputs": [
    {
     "data": {
      "text/plain": [
       "Index(['mean'], dtype='object')"
      ]
     },
     "execution_count": 29,
     "metadata": {},
     "output_type": "execute_result"
    }
   ],
   "source": [
    "import pandas as pd\n",
    "\n",
    "# Check if forecast has a .mean or .samples attribute (common in GluonTS)\n",
    "if hasattr(forecast, \"mean\"):\n",
    "    preddata = pd.DataFrame({\"mean\": forecast.mean})\n",
    "elif hasattr(forecast, \"samples\"):\n",
    "    # Use the mean of samples as prediction\n",
    "    preddata = pd.DataFrame({\"mean\": forecast.samples.mean(axis=0)})\n",
    "elif hasattr(forecast, \"quantiles\"):\n",
    "    # If quantiles are available, use them\n",
    "    preddata = pd.DataFrame({q: forecast.quantile(q) for q in forecast.quantiles})\n",
    "else:\n",
    "    # Fallback: try to convert to numpy and wrap in DataFrame\n",
    "    preddata = pd.DataFrame(np.asarray(forecast))\n",
    "\n",
    "# Now you can inspect the DataFrame\n",
    "preddata.head()\n",
    "preddata.tail()\n",
    "preddata.shape\n",
    "preddata.index\n",
    "preddata.columns\n"
   ]
  },
  {
   "cell_type": "code",
   "execution_count": 30,
   "id": "33855465",
   "metadata": {},
   "outputs": [
    {
     "data": {
      "text/html": [
       "<div>\n",
       "<style scoped>\n",
       "    .dataframe tbody tr th:only-of-type {\n",
       "        vertical-align: middle;\n",
       "    }\n",
       "\n",
       "    .dataframe tbody tr th {\n",
       "        vertical-align: top;\n",
       "    }\n",
       "\n",
       "    .dataframe thead th {\n",
       "        text-align: right;\n",
       "    }\n",
       "</style>\n",
       "<table border=\"1\" class=\"dataframe\">\n",
       "  <thead>\n",
       "    <tr style=\"text-align: right;\">\n",
       "      <th></th>\n",
       "      <th>mean</th>\n",
       "    </tr>\n",
       "  </thead>\n",
       "  <tbody>\n",
       "    <tr>\n",
       "      <th>0</th>\n",
       "      <td>30.353306</td>\n",
       "    </tr>\n",
       "    <tr>\n",
       "      <th>1</th>\n",
       "      <td>24.527458</td>\n",
       "    </tr>\n",
       "    <tr>\n",
       "      <th>2</th>\n",
       "      <td>19.767891</td>\n",
       "    </tr>\n",
       "    <tr>\n",
       "      <th>3</th>\n",
       "      <td>16.306906</td>\n",
       "    </tr>\n",
       "    <tr>\n",
       "      <th>4</th>\n",
       "      <td>14.883677</td>\n",
       "    </tr>\n",
       "    <tr>\n",
       "      <th>5</th>\n",
       "      <td>13.976576</td>\n",
       "    </tr>\n",
       "    <tr>\n",
       "      <th>6</th>\n",
       "      <td>14.676401</td>\n",
       "    </tr>\n",
       "    <tr>\n",
       "      <th>7</th>\n",
       "      <td>16.983009</td>\n",
       "    </tr>\n",
       "    <tr>\n",
       "      <th>8</th>\n",
       "      <td>21.498522</td>\n",
       "    </tr>\n",
       "    <tr>\n",
       "      <th>9</th>\n",
       "      <td>27.351166</td>\n",
       "    </tr>\n",
       "    <tr>\n",
       "      <th>10</th>\n",
       "      <td>34.889233</td>\n",
       "    </tr>\n",
       "    <tr>\n",
       "      <th>11</th>\n",
       "      <td>42.666077</td>\n",
       "    </tr>\n",
       "    <tr>\n",
       "      <th>12</th>\n",
       "      <td>51.120708</td>\n",
       "    </tr>\n",
       "    <tr>\n",
       "      <th>13</th>\n",
       "      <td>56.579796</td>\n",
       "    </tr>\n",
       "    <tr>\n",
       "      <th>14</th>\n",
       "      <td>61.060928</td>\n",
       "    </tr>\n",
       "    <tr>\n",
       "      <th>15</th>\n",
       "      <td>61.516151</td>\n",
       "    </tr>\n",
       "    <tr>\n",
       "      <th>16</th>\n",
       "      <td>63.336525</td>\n",
       "    </tr>\n",
       "    <tr>\n",
       "      <th>17</th>\n",
       "      <td>61.531509</td>\n",
       "    </tr>\n",
       "    <tr>\n",
       "      <th>18</th>\n",
       "      <td>59.938370</td>\n",
       "    </tr>\n",
       "    <tr>\n",
       "      <th>19</th>\n",
       "      <td>56.781979</td>\n",
       "    </tr>\n",
       "    <tr>\n",
       "      <th>20</th>\n",
       "      <td>53.511292</td>\n",
       "    </tr>\n",
       "    <tr>\n",
       "      <th>21</th>\n",
       "      <td>49.332489</td>\n",
       "    </tr>\n",
       "    <tr>\n",
       "      <th>22</th>\n",
       "      <td>44.174782</td>\n",
       "    </tr>\n",
       "    <tr>\n",
       "      <th>23</th>\n",
       "      <td>36.737560</td>\n",
       "    </tr>\n",
       "  </tbody>\n",
       "</table>\n",
       "</div>"
      ],
      "text/plain": [
       "         mean\n",
       "0   30.353306\n",
       "1   24.527458\n",
       "2   19.767891\n",
       "3   16.306906\n",
       "4   14.883677\n",
       "5   13.976576\n",
       "6   14.676401\n",
       "7   16.983009\n",
       "8   21.498522\n",
       "9   27.351166\n",
       "10  34.889233\n",
       "11  42.666077\n",
       "12  51.120708\n",
       "13  56.579796\n",
       "14  61.060928\n",
       "15  61.516151\n",
       "16  63.336525\n",
       "17  61.531509\n",
       "18  59.938370\n",
       "19  56.781979\n",
       "20  53.511292\n",
       "21  49.332489\n",
       "22  44.174782\n",
       "23  36.737560"
      ]
     },
     "execution_count": 30,
     "metadata": {},
     "output_type": "execute_result"
    }
   ],
   "source": [
    "preddata"
   ]
  }
 ],
 "metadata": {
  "kernelspec": {
   "display_name": "venv",
   "language": "python",
   "name": "python3"
  },
  "language_info": {
   "codemirror_mode": {
    "name": "ipython",
    "version": 3
   },
   "file_extension": ".py",
   "mimetype": "text/x-python",
   "name": "python",
   "nbconvert_exporter": "python",
   "pygments_lexer": "ipython3",
   "version": "3.10.0"
  }
 },
 "nbformat": 4,
 "nbformat_minor": 5
}
