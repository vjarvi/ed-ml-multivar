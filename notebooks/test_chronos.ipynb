{
 "cells": [
  {
   "cell_type": "code",
   "execution_count": null,
   "id": "757d77cc",
   "metadata": {"tags": ["parameters"]},
   "outputs": [],
   "source": [
    "# Parameters\n",
    "CONTEXTLENGTH = 512  # will be overridden by papermill"
   ]
  },
  {
   "cell_type": "markdown",
   "id": "09b2349f",
   "metadata": {},
   "source": [
    "this notebook loads tirex and makes predictions using it. Input context data is loaded from data/interim/data.csv. results are saved to data/processed/prediction_matrices/50/."
   ]
  },
  {
   "cell_type": "code",
   "execution_count": 1,
   "id": "337f0116",
   "metadata": {},
   "outputs": [
    {
     "name": "stderr",
     "output_type": "stream",
     "text": [
      "/home/valtti/code/ed-ml-multivar/env-chronos/lib/python3.12/site-packages/tqdm/auto.py:21: TqdmWarning: IProgress not found. Please update jupyter and ipywidgets. See https://ipywidgets.readthedocs.io/en/stable/user_install.html\n",
      "  from .autonotebook import tqdm as notebook_tqdm\n"
     ]
    }
   ],
   "source": [
    "import pandas as pd\n",
    "import os\n",
    "from pyprojroot import here\n",
    "import torch\n",
    "\n",
    "import logging\n",
    "import argparse\n",
    "\n",
    "import sys\n",
    "sys.path.append(str(here() / 'scripts'))\n",
    "\n",
    "from utils import (get_data, get_y, convert_to_tensors, get_x_tensors, save, get_n_epochs)\n",
    "from chronos import BaseChronosPipeline, ChronosBoltPipeline"
   ]
  },
  {
   "cell_type": "code",
   "execution_count": null,
   "id": "d72314dc",
   "metadata": {},
   "outputs": [],
   "source": [
    "MAXMODELCONTEXT= 512 # max context length for this model\n",
    "MAXCONTEXT = 12840 # max context length for this dataset (2017-01-01 - 2018-06-19)\n",
    "if CONTEXTLENGTH > MAXMODELCONTEXT:\n",
    "    CONTEXTLENGTH = MAXMODELCONTEXT\n",
    "\n",
    "if CONTEXTLENGTH > MAXCONTEXT:\n",
    "    CONTEXTLENGTH = MAXCONTEXT\n",
    "\n",
    "\n",
    "MODEL = 'chronosboltbase'\n",
    "TARGET = 'occ'\n",
    "FEATURESET = 'u'\n",
    "TESTNAME = f'{TARGET}-{MODEL}-{FEATURESET}-{CONTEXTLENGTH}'\n",
    "TESTSTART = pd.Timestamp('20180620')\n",
    "TESTSIZE = 365*24\n",
    "PREDICTIONLENGTH = 24"
   ]
  },
  {
   "cell_type": "code",
   "execution_count": null,
   "id": "72a26be0",
   "metadata": {},
   "outputs": [],
   "source": [
    "logging.basicConfig(\n",
    "    format='%(asctime)s - %(message)s', \n",
    "    level=logging.INFO,\n",
    "    filename=here() / f\"logs/logger/{TESTNAME}.log\",      \n",
    "    filemode='w'\n",
    "    )\n",
    "logging.info('Starting test.')\n",
    "logging.info(f'MODEL: {MODEL} TARGET: {TARGET} FEATURESET:'\n",
    "     f'{FEATURESET} CONTEXTLENGTH: {CONTEXTLENGTH}')"
   ]
  },
  {
   "cell_type": "code",
   "execution_count": 3,
   "id": "500a0d86",
   "metadata": {},
   "outputs": [],
   "source": [
    "data = get_data(TARGET, MODEL)\n",
    "y = get_y(data, TARGET)\n",
    "pc, fc = get_x_tensors(data, FEATURESET)"
   ]
  },
  {
   "cell_type": "code",
   "execution_count": 4,
   "id": "86135b4d",
   "metadata": {},
   "outputs": [],
   "source": [
    "if TESTSTART in y.time_index:\n",
    "    start_idx = y.time_index.get_loc(TESTSTART)\n",
    "else:\n",
    "    start_idx = y.time_index.get_indexer([TESTSTART], method='nearest')[0]\n",
    "    pred_idx = 0\n",
    "\n",
    "y = convert_to_tensors(y)\n",
    "\n",
    "num_of_days = (y.shape[0] - start_idx) // 24\n",
    "y_pred = torch.zeros(num_of_days, 24)\n",
    "y_context = torch.zeros(num_of_days, CONTEXTLENGTH)\n",
    "for i in range(num_of_days):\n",
    "    y_context[i] = y[start_idx - CONTEXTLENGTH:start_idx]\n",
    "    start_idx += 24"
   ]
  },
  {
   "cell_type": "code",
   "execution_count": 8,
   "id": "496d39e7",
   "metadata": {},
   "outputs": [],
   "source": [
    "model = BaseChronosPipeline.from_pretrained(\n",
    "        f'amazon/{\"chronos-bolt-base\"}',\n",
    "        device_map=\"cpu\",\n",
    "        dtype=torch.bfloat16, # torch_dtype is deprecated\n",
    "    )\n",
    "\n",
    "predictions, mean = model.predict_quantiles(y_context,\n",
    "        prediction_length=24,\n",
    "        quantile_levels=[0.5]\n",
    "    )\n",
    "y_pred = torch.squeeze(mean)"
   ]
  },
  {
   "cell_type": "code",
   "execution_count": null,
   "id": "b9e89a10",
   "metadata": {},
   "outputs": [
    {
     "data": {
      "text/plain": [
       "torch.Size([365, 24])"
      ]
     },
     "execution_count": 9,
     "metadata": {},
     "output_type": "execute_result"
    }
   ],
   "source": []
  },
  {
   "cell_type": "code",
   "execution_count": 10,
   "id": "9ecc9b39",
   "metadata": {},
   "outputs": [],
   "source": [
    "save(model_name=MODEL+\"test\", featureset_name=FEATURESET, target_name=TARGET,\n",
    "    context_length=CONTEXTLENGTH, test_start=TESTSTART, y_pred=y_pred)\n",
    "logging.info('Results persisted')"
   ]
  }
 ],
 "metadata": {
  "kernelspec": {
   "display_name": "env-chronos",
   "language": "python",
   "name": "python3"
  },
  "language_info": {
   "codemirror_mode": {
    "name": "ipython",
    "version": 3
   },
   "file_extension": ".py",
   "mimetype": "text/x-python",
   "name": "python",
   "nbconvert_exporter": "python",
   "pygments_lexer": "ipython3",
   "version": "3.12.3"
  }
 },
 "nbformat": 4,
 "nbformat_minor": 5
}
