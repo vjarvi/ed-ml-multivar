{
 "cells": [
  {
   "cell_type": "code",
   "execution_count": null,
   "id": "c0e565a3-b66c-4305-971f-1a41beb58e29",
   "metadata": {},
   "outputs": [],
   "source": [
    "import pandas as pd\n",
    "from pyprojroot import here\n",
    "import matplotlib.pyplot as plt\n",
    "import numpy as np\n",
    "from nutils import name_mask"
   ]
  },
  {
   "cell_type": "code",
   "execution_count": null,
   "id": "c7f1c29a-fb6e-4cf0-a4b6-5737503e33a9",
   "metadata": {},
   "outputs": [],
   "source": [
    "path = here() / 'logs/logger'"
   ]
  },
  {
   "cell_type": "code",
   "execution_count": null,
   "id": "bc1c2ffd-527e-4427-a8b5-3f1a14f3c0d0",
   "metadata": {},
   "outputs": [],
   "source": [
    "results = list()\n",
    "\n",
    "for p in path.glob('*.log'):\n",
    "    \n",
    "    result = dict()\n",
    "    \n",
    "    # names\n",
    "    stem = p.stem.split('-')\n",
    "    result['target'] = stem[0]\n",
    "    result['model'] = stem[1]\n",
    "    result['fs'] = stem[2]\n",
    "    result['hpo'] = stem[3]\n",
    "    \n",
    "    # parse\n",
    "    \n",
    "    try:\n",
    "        table = pd.read_csv(p, sep=r'\\\\t', engine='python', names=['column'])\n",
    "        table = table.column.str.split(' - ', expand=True)\n",
    "        table.columns = ['timestamp', 'message']\n",
    "        table.timestamp = pd.to_datetime(table.timestamp)\n",
    "        result['ts_start'] = table.timestamp.iloc[0]\n",
    "    except Exception as error:\n",
    "        continue\n",
    "    \n",
    "    try:\n",
    "        row = table[table.message == 'Starting hyperparameter optimisation as requested']\n",
    "        result['ts_hpo_start'] = row.timestamp.iloc[0]\n",
    "    except Exception as error:\n",
    "        result['ts_hpo_start'] = table.timestamp.iloc[0]\n",
    "        \n",
    "    try:\n",
    "        row = table[table.message == 'Fitting the model for the first time']\n",
    "        result['ts_fit_start'] = row.timestamp.iloc[0]\n",
    "    except Exception as error:\n",
    "        result['ts_fit_start'] = None\n",
    "    \n",
    "    try:\n",
    "        row = table[table.message == 'Starting backtesting on the test set']\n",
    "        result['ts_backtest_start'] = row.timestamp.iloc[0]\n",
    "    except Exception as error:\n",
    "        result['ts_backtest_start'] = None\n",
    "    \n",
    "    try:\n",
    "        row = table[table.message == 'Results persisted']\n",
    "        result['ts_ready'] = row.timestamp.iloc[0]\n",
    "    except Exception as error:\n",
    "        result['ts_ready'] = None\n",
    "    \n",
    "    \n",
    "    results.append(result)"
   ]
  },
  {
   "cell_type": "code",
   "execution_count": null,
   "id": "96495760-50cc-4ba6-b8f9-db3390f38eff",
   "metadata": {},
   "outputs": [],
   "source": [
    "df = pd.DataFrame(results)\n",
    "df['name'] = df['target'] + '-' + df['model'] + '-' + df['fs'] + '-' + df['hpo']\n",
    "df = df.set_index('name')\n",
    "\n",
    "df['delta_total'] = (df.ts_ready - df.ts_start)\n",
    "df['delta_hpo'] = (df.ts_fit_start - df.ts_hpo_start)\n",
    "df['delta_fit'] = (df.ts_backtest_start - df.ts_fit_start)\n",
    "df['delta_backtest'] = (df.ts_ready - df.ts_backtest_start)\n",
    "\n",
    "df.delta_total = df.delta_total.apply(lambda x: x.seconds / (60 * 60))\n",
    "df.delta_hpo = df.delta_hpo.apply(lambda x: x.seconds / (60 * 60))\n",
    "df.delta_backtest = df.delta_backtest.apply(lambda x: x.seconds / (60 * 60))\n",
    "df.delta_fit = df.delta_fit.apply(lambda x: x.seconds / (60 * 60))"
   ]
  },
  {
   "cell_type": "code",
   "execution_count": null,
   "id": "b6ee68b4-ff56-4a3c-aec4-a68872e1c10f",
   "metadata": {},
   "outputs": [],
   "source": [
    "view = df[['delta_hpo', 'delta_fit', 'delta_backtest']]\n",
    "view['delta_total'] = view.sum(axis=1)\n",
    "view = view.sort_values(by='delta_total')\n",
    "view.drop(columns='delta_total', inplace=True)\n",
    "\n",
    "fig, ax = plt.subplots()\n",
    "\n",
    "view.plot.barh(stacked=True, width=.8, edgecolor='k', lw=.5, ax=ax);\n",
    "ax.set_xlabel('Runtime (h)');\n",
    "ax.legend(loc=4);\n",
    "#ax.set_xscale('log')\n",
    "plt.savefig(here() / 'output/plots/runtime.jpg', dpi=300, bbox_inches='tight')"
   ]
  },
  {
   "cell_type": "code",
   "execution_count": null,
   "id": "1ad10183-03cb-4639-9e0e-2987e518f509",
   "metadata": {},
   "outputs": [],
   "source": [
    "table = df[['model', 'fs', 'hpo', 'delta_hpo', 'delta_fit', 'delta_backtest', 'delta_total']]\n",
    "table['delta_total'] = table[['delta_hpo', 'delta_fit', 'delta_backtest']].sum(axis=1)\n",
    "#table['delta_total'].fillna(0, inplace=True)\n",
    "table = table[table.hpo=='1']\n",
    "table = table.reset_index()\n",
    "table = table.drop(columns=['name', 'hpo'])\n",
    "table.model = table.model.replace(name_mask)\n",
    "table = table.rename(columns={\n",
    "    'delta_fit' : 'Fit', \n",
    "    'delta_backtest': 'Backtest',\n",
    "    'delta_total' : 'Total',\n",
    "    'delta_hpo' : 'HPO',\n",
    "    'model' : 'Model',\n",
    "    'fs':'FS'})\n",
    "\n",
    "table = table.sort_values('Total')\n",
    "#table = table.round(2)\n",
    "table.FS = table.FS.str.upper()\n",
    "table['Name'] = table.Model + '-' + table.FS\n",
    "table = table.set_index('Name')\n",
    "table = table.drop(columns=['Model', 'FS'])\n",
    "\n",
    "#table.loc['Total'] = table.sum()\n",
    "table = table\n",
    "table = table.round(2)\n",
    "#table.replace(0.0"
   ]
  },
  {
   "cell_type": "code",
   "execution_count": null,
   "id": "584f37f9-6b17-4a81-9478-0dba7df8352e",
   "metadata": {},
   "outputs": [],
   "source": [
    "table = table.replace(0.00, '<0.01')"
   ]
  },
  {
   "cell_type": "code",
   "execution_count": null,
   "id": "94bf83ce-2beb-4923-a4bc-7562d82be522",
   "metadata": {},
   "outputs": [],
   "source": [
    "hw = ['CPU', 'CPU', 'CPU', 'CPU', 'GPU2', 'CPU', 'GPU1', 'GPU1', 'GPU1', 'CPU', 'GPU2']"
   ]
  },
  {
   "cell_type": "code",
   "execution_count": null,
   "id": "d7e7042d-382c-4c7c-94e8-4d7dc59f4bd5",
   "metadata": {},
   "outputs": [],
   "source": [
    "table['Accelerator'] = hw"
   ]
  },
  {
   "cell_type": "code",
   "execution_count": null,
   "id": "87620365-c271-4ac3-8b5c-9ef9e2964667",
   "metadata": {},
   "outputs": [],
   "source": [
    "table = table.drop(['SN-U', 'HWAM-U', 'HWDM-U', 'ARIMA-U'])"
   ]
  },
  {
   "cell_type": "code",
   "execution_count": null,
   "id": "25e8cf18-f469-4bec-8538-9d79cdf70a21",
   "metadata": {},
   "outputs": [],
   "source": [
    "table.to_latex(\n",
    "    buf=here() / 'output/tables/runtime.tex',\n",
    "    column_format='rccccc',\n",
    "    label='tab:runtime',\n",
    "    caption='Computational cost measured in walltime hours for hyperparameter optimisation (HPO),\\\n",
    "        parameter estimation and backtesting in minutes. CPU=Intel Xeon Cascade Lake 2,1 GHz,\\\n",
    "        GPU1=Nvidia Volta V100, GPU2=Nvidia Ampere A100',\n",
    "    position='H',\n",
    "    index=True,\n",
    "    na_rep='-'\n",
    ")"
   ]
  }
 ],
 "metadata": {
  "kernelspec": {
   "display_name": "ed-tft-3",
   "language": "python",
   "name": "ed-tft-3"
  },
  "language_info": {
   "codemirror_mode": {
    "name": "ipython",
    "version": 3
   },
   "file_extension": ".py",
   "mimetype": "text/x-python",
   "name": "python",
   "nbconvert_exporter": "python",
   "pygments_lexer": "ipython3",
   "version": "3.11.4"
  }
 },
 "nbformat": 4,
 "nbformat_minor": 5
}