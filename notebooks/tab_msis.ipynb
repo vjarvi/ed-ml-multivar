{
 "cells": [
  {
   "cell_type": "code",
   "execution_count": 19,
   "id": "42feb5c5-74b0-4a95-99d0-a97d38563e92",
   "metadata": {},
   "outputs": [],
   "source": [
    "import pandas as pd\n",
    "from pyprojroot import here\n",
    "import numpy as np\n",
    "\n",
    "from nutils import interval_score"
   ]
  },
  {
   "cell_type": "code",
   "execution_count": 20,
   "id": "3fad41c5-1328-41be-aae1-142bec9fb3aa",
   "metadata": {},
   "outputs": [],
   "source": [
    "TARGET = 'occ'"
   ]
  },
  {
   "cell_type": "code",
   "execution_count": 21,
   "id": "5c4f70db-e690-476e-a5b2-3c1ebdf57b94",
   "metadata": {},
   "outputs": [
    {
     "name": "stdout",
     "output_type": "stream",
     "text": [
      "             t+1   t+2   t+3   t+4   t+5   t+6   t+7   t+8   t+9  t+10  ...  \\\n",
      "datetime                                                                ...   \n",
      "2017-01-01  30.0  27.0  19.0  24.0  24.0  26.0  35.0  37.0  36.0  38.0  ...   \n",
      "2017-01-02  51.0  48.0  43.0  34.0  27.0  28.0  35.0  31.0  38.0  43.0  ...   \n",
      "2017-01-03  75.0  67.0  65.0  59.0  57.0  53.0  50.0  46.0  44.0  45.0  ...   \n",
      "2017-01-04  36.0  27.0  24.0  23.0  20.0  15.0  11.0  19.0  23.0  26.0  ...   \n",
      "2017-01-05  26.0  21.0  19.0  16.0  14.0  14.0  24.0  22.0  21.0  25.0  ...   \n",
      "...          ...   ...   ...   ...   ...   ...   ...   ...   ...   ...  ...   \n",
      "2019-06-15  37.0  31.0  25.0  21.0  23.0  22.0  22.0  26.0  30.0  40.0  ...   \n",
      "2019-06-16  34.0  27.0  29.0  23.0  25.0  25.0  20.0  19.0  19.0  18.0  ...   \n",
      "2019-06-17  27.0  24.0  13.0   9.0   7.0   7.0  13.0  17.0  21.0  32.0  ...   \n",
      "2019-06-18  21.0  16.0  18.0  13.0   9.0   5.0   8.0   8.0  16.0  24.0  ...   \n",
      "2019-06-19   NaN   NaN   NaN   NaN   NaN   NaN   NaN   NaN   NaN   NaN  ...   \n",
      "\n",
      "            t+15   t+16  t+17  t+18  t+19  t+20  t+21  t+22  t+23  t+24  \n",
      "datetime                                                                 \n",
      "2017-01-01  89.0  100.0  99.0  97.0  90.0  90.0  82.0  75.0  67.0  59.0  \n",
      "2017-01-02  94.0  100.0  98.0  99.0  99.0  96.0  98.0  93.0  93.0  83.0  \n",
      "2017-01-03  97.0   98.0  89.0  95.0  85.0  69.0  55.0  47.0  44.0  39.0  \n",
      "2017-01-04  54.0   62.0  63.0  64.0  53.0  44.0  37.0  37.0  30.0  26.0  \n",
      "2017-01-05  73.0   72.0  79.0  77.0  79.0  74.0  75.0  63.0  49.0  36.0  \n",
      "...          ...    ...   ...   ...   ...   ...   ...   ...   ...   ...  \n",
      "2019-06-15  61.0   61.0  53.0  45.0  46.0  45.0  56.0  43.0  40.0  39.0  \n",
      "2019-06-16  58.0   56.0  63.0  67.0  64.0  62.0  56.0  53.0  45.0  35.0  \n",
      "2019-06-17  56.0   61.0  57.0  53.0  50.0  50.0  37.0  32.0  31.0  24.0  \n",
      "2019-06-18  67.0   74.0  71.0  73.0  63.0  56.0  52.0  46.0  42.0  40.0  \n",
      "2019-06-19   NaN    NaN   NaN   NaN   NaN   NaN   NaN   NaN   NaN   NaN  \n",
      "\n",
      "[900 rows x 24 columns]\n"
     ]
    }
   ],
   "source": [
    "true_matrix = pd.read_csv(\n",
    "    here() / f'data/processed/true_matrices/{TARGET}.csv',\n",
    "    index_col='datetime',\n",
    "    parse_dates=True\n",
    ")\n",
    "print(true_matrix)"
   ]
  },
  {
   "cell_type": "code",
   "execution_count": 22,
   "id": "347c56bb-740b-4dfe-93ee-c83e38994946",
   "metadata": {},
   "outputs": [],
   "source": [
    "result_list = list()\n",
    "\n",
    "for lpath in here('data/processed/prediction_matrices/05').glob('*.csv'):\n",
    "    \n",
    "    result = dict()\n",
    "    \n",
    "    parts = lpath.stem.split('-')\n",
    "    \n",
    "    result['Model'] = parts[1].upper()\n",
    "    result['FS'] = parts[2].upper()\n",
    "    result['HPO'] = parts[3]\n",
    "    \n",
    "    l = pd.read_csv(\n",
    "        lpath, \n",
    "        index_col='datetime', \n",
    "        parse_dates=True\n",
    "    )\n",
    "    \n",
    "    upath = here() / 'data/processed/prediction_matrices/95'\n",
    "    upath = upath / f\"{lpath.stem}.csv\"\n",
    "    \n",
    "    u = pd.read_csv(\n",
    "        upath, \n",
    "        index_col='datetime', \n",
    "        parse_dates=True\n",
    "    ).dropna()\n",
    "    print(lpath)\n",
    "    true_vector = true_matrix.loc[u.index].dropna()\n",
    "    \n",
    "    l_vector = l.loc[true_vector.index].values.flatten()\n",
    "    u_vector = u.loc[true_vector.index].values.flatten()\n",
    "    true_vector = true_vector.values.flatten()\n",
    "    \n",
    "    try:\n",
    "        msis = interval_score(\n",
    "            observations=true_vector,\n",
    "            alpha=0.05, \n",
    "            q_left=l_vector, \n",
    "            q_right=u_vector,\n",
    "            mean=True,\n",
    "            scaled=True,\n",
    "            seasonality=24\n",
    "        )\n",
    "    except Exception as e:\n",
    "        msis = np.nan\n",
    "        print(f'Encountered error when calculating MSIS for {p.stem}')\n",
    "        print(e)\n",
    "    result['MSIS'] = msis.round(2)\n",
    "    result_list.append(result)"
   ]
  },
  {
   "cell_type": "code",
   "execution_count": 23,
   "id": "2db3161d",
   "metadata": {},
   "outputs": [
    {
     "name": "stdout",
     "output_type": "stream",
     "text": [
      "[]\n"
     ]
    }
   ],
   "source": [
    "print(result_list)"
   ]
  },
  {
   "cell_type": "code",
   "execution_count": null,
   "id": "550de982-9e2a-407e-b48c-7693f33193f3",
   "metadata": {},
   "outputs": [
    {
     "name": "stdout",
     "output_type": "stream",
     "text": [
      "[]\n"
     ]
    },
    {
     "ename": "KeyError",
     "evalue": "'MSIS'",
     "output_type": "error",
     "traceback": [
      "\u001b[0;31m---------------------------------------------------------------------------\u001b[0m",
      "\u001b[0;31mKeyError\u001b[0m                                  Traceback (most recent call last)",
      "\u001b[0;32m/tmp/ipykernel_84918/3634363358.py\u001b[0m in \u001b[0;36m?\u001b[0;34m()\u001b[0m\n\u001b[1;32m      1\u001b[0m \u001b[0mprint\u001b[0m\u001b[0;34m(\u001b[0m\u001b[0mresult_list\u001b[0m\u001b[0;34m)\u001b[0m\u001b[0;34m\u001b[0m\u001b[0;34m\u001b[0m\u001b[0m\n\u001b[1;32m      2\u001b[0m \u001b[0mdf\u001b[0m \u001b[0;34m=\u001b[0m \u001b[0mpd\u001b[0m\u001b[0;34m.\u001b[0m\u001b[0mDataFrame\u001b[0m\u001b[0;34m(\u001b[0m\u001b[0mresult_list\u001b[0m\u001b[0;34m)\u001b[0m\u001b[0;34m\u001b[0m\u001b[0;34m\u001b[0m\u001b[0m\n\u001b[0;32m----> 3\u001b[0;31m \u001b[0mdf\u001b[0m \u001b[0;34m=\u001b[0m \u001b[0mdf\u001b[0m\u001b[0;34m.\u001b[0m\u001b[0msort_values\u001b[0m\u001b[0;34m(\u001b[0m\u001b[0mby\u001b[0m\u001b[0;34m=\u001b[0m\u001b[0;34m'MSIS'\u001b[0m\u001b[0;34m,\u001b[0m \u001b[0mascending\u001b[0m\u001b[0;34m=\u001b[0m\u001b[0;32mFalse\u001b[0m\u001b[0;34m)\u001b[0m\u001b[0;34m\u001b[0m\u001b[0;34m\u001b[0m\u001b[0m\n\u001b[0m\u001b[1;32m      4\u001b[0m \u001b[0mdf\u001b[0m \u001b[0;34m=\u001b[0m \u001b[0mdf\u001b[0m\u001b[0;34m.\u001b[0m\u001b[0mset_index\u001b[0m\u001b[0;34m(\u001b[0m\u001b[0;34m'Model'\u001b[0m\u001b[0;34m)\u001b[0m\u001b[0;34m\u001b[0m\u001b[0;34m\u001b[0m\u001b[0m\n",
      "\u001b[0;32m~/code/ed-ml-multivar/thesisenv/lib/python3.10/site-packages/pandas/util/_decorators.py\u001b[0m in \u001b[0;36m?\u001b[0;34m(*args, **kwargs)\u001b[0m\n\u001b[1;32m    327\u001b[0m                     \u001b[0mmsg\u001b[0m\u001b[0;34m.\u001b[0m\u001b[0mformat\u001b[0m\u001b[0;34m(\u001b[0m\u001b[0marguments\u001b[0m\u001b[0;34m=\u001b[0m\u001b[0m_format_argument_list\u001b[0m\u001b[0;34m(\u001b[0m\u001b[0mallow_args\u001b[0m\u001b[0;34m)\u001b[0m\u001b[0;34m)\u001b[0m\u001b[0;34m,\u001b[0m\u001b[0;34m\u001b[0m\u001b[0;34m\u001b[0m\u001b[0m\n\u001b[1;32m    328\u001b[0m                     \u001b[0mFutureWarning\u001b[0m\u001b[0;34m,\u001b[0m\u001b[0;34m\u001b[0m\u001b[0;34m\u001b[0m\u001b[0m\n\u001b[1;32m    329\u001b[0m                     \u001b[0mstacklevel\u001b[0m\u001b[0;34m=\u001b[0m\u001b[0mfind_stack_level\u001b[0m\u001b[0;34m(\u001b[0m\u001b[0;34m)\u001b[0m\u001b[0;34m,\u001b[0m\u001b[0;34m\u001b[0m\u001b[0;34m\u001b[0m\u001b[0m\n\u001b[1;32m    330\u001b[0m                 )\n\u001b[0;32m--> 331\u001b[0;31m             \u001b[0;32mreturn\u001b[0m \u001b[0mfunc\u001b[0m\u001b[0;34m(\u001b[0m\u001b[0;34m*\u001b[0m\u001b[0margs\u001b[0m\u001b[0;34m,\u001b[0m \u001b[0;34m**\u001b[0m\u001b[0mkwargs\u001b[0m\u001b[0;34m)\u001b[0m\u001b[0;34m\u001b[0m\u001b[0;34m\u001b[0m\u001b[0m\n\u001b[0m",
      "\u001b[0;32m~/code/ed-ml-multivar/thesisenv/lib/python3.10/site-packages/pandas/core/frame.py\u001b[0m in \u001b[0;36m?\u001b[0;34m(self, by, axis, ascending, inplace, kind, na_position, ignore_index, key)\u001b[0m\n\u001b[1;32m   6908\u001b[0m         \u001b[0;32melif\u001b[0m \u001b[0mlen\u001b[0m\u001b[0;34m(\u001b[0m\u001b[0mby\u001b[0m\u001b[0;34m)\u001b[0m\u001b[0;34m:\u001b[0m\u001b[0;34m\u001b[0m\u001b[0;34m\u001b[0m\u001b[0m\n\u001b[1;32m   6909\u001b[0m             \u001b[0;31m# len(by) == 1\u001b[0m\u001b[0;34m\u001b[0m\u001b[0;34m\u001b[0m\u001b[0m\n\u001b[1;32m   6910\u001b[0m \u001b[0;34m\u001b[0m\u001b[0m\n\u001b[1;32m   6911\u001b[0m             \u001b[0mby\u001b[0m \u001b[0;34m=\u001b[0m \u001b[0mby\u001b[0m\u001b[0;34m[\u001b[0m\u001b[0;36m0\u001b[0m\u001b[0;34m]\u001b[0m\u001b[0;34m\u001b[0m\u001b[0;34m\u001b[0m\u001b[0m\n\u001b[0;32m-> 6912\u001b[0;31m             \u001b[0mk\u001b[0m \u001b[0;34m=\u001b[0m \u001b[0mself\u001b[0m\u001b[0;34m.\u001b[0m\u001b[0m_get_label_or_level_values\u001b[0m\u001b[0;34m(\u001b[0m\u001b[0mby\u001b[0m\u001b[0;34m,\u001b[0m \u001b[0maxis\u001b[0m\u001b[0;34m=\u001b[0m\u001b[0maxis\u001b[0m\u001b[0;34m)\u001b[0m\u001b[0;34m\u001b[0m\u001b[0;34m\u001b[0m\u001b[0m\n\u001b[0m\u001b[1;32m   6913\u001b[0m \u001b[0;34m\u001b[0m\u001b[0m\n\u001b[1;32m   6914\u001b[0m             \u001b[0;31m# need to rewrap column in Series to apply key function\u001b[0m\u001b[0;34m\u001b[0m\u001b[0;34m\u001b[0m\u001b[0m\n\u001b[1;32m   6915\u001b[0m             \u001b[0;32mif\u001b[0m \u001b[0mkey\u001b[0m \u001b[0;32mis\u001b[0m \u001b[0;32mnot\u001b[0m \u001b[0;32mNone\u001b[0m\u001b[0;34m:\u001b[0m\u001b[0;34m\u001b[0m\u001b[0;34m\u001b[0m\u001b[0m\n",
      "\u001b[0;32m~/code/ed-ml-multivar/thesisenv/lib/python3.10/site-packages/pandas/core/generic.py\u001b[0m in \u001b[0;36m?\u001b[0;34m(self, key, axis)\u001b[0m\n\u001b[1;32m   1846\u001b[0m                 \u001b[0;34m.\u001b[0m\u001b[0mget_level_values\u001b[0m\u001b[0;34m(\u001b[0m\u001b[0mkey\u001b[0m\u001b[0;34m)\u001b[0m  \u001b[0;31m# type: ignore[assignment]\u001b[0m\u001b[0;34m\u001b[0m\u001b[0;34m\u001b[0m\u001b[0m\n\u001b[1;32m   1847\u001b[0m                 \u001b[0;34m.\u001b[0m\u001b[0m_values\u001b[0m\u001b[0;34m\u001b[0m\u001b[0;34m\u001b[0m\u001b[0m\n\u001b[1;32m   1848\u001b[0m             )\n\u001b[1;32m   1849\u001b[0m         \u001b[0;32melse\u001b[0m\u001b[0;34m:\u001b[0m\u001b[0;34m\u001b[0m\u001b[0;34m\u001b[0m\u001b[0m\n\u001b[0;32m-> 1850\u001b[0;31m             \u001b[0;32mraise\u001b[0m \u001b[0mKeyError\u001b[0m\u001b[0;34m(\u001b[0m\u001b[0mkey\u001b[0m\u001b[0;34m)\u001b[0m\u001b[0;34m\u001b[0m\u001b[0;34m\u001b[0m\u001b[0m\n\u001b[0m\u001b[1;32m   1851\u001b[0m \u001b[0;34m\u001b[0m\u001b[0m\n\u001b[1;32m   1852\u001b[0m         \u001b[0;31m# Check for duplicates\u001b[0m\u001b[0;34m\u001b[0m\u001b[0;34m\u001b[0m\u001b[0m\n\u001b[1;32m   1853\u001b[0m         \u001b[0;32mif\u001b[0m \u001b[0mvalues\u001b[0m\u001b[0;34m.\u001b[0m\u001b[0mndim\u001b[0m \u001b[0;34m>\u001b[0m \u001b[0;36m1\u001b[0m\u001b[0;34m:\u001b[0m\u001b[0;34m\u001b[0m\u001b[0;34m\u001b[0m\u001b[0m\n",
      "\u001b[0;31mKeyError\u001b[0m: 'MSIS'"
     ]
    }
   ],
   "source": [
    "df = pd.DataFrame(result_list)\n",
    "df = df.sort_values(by='MSIS', ascending=False)\n",
    "df = df.set_index('Model')"
   ]
  },
  {
   "cell_type": "code",
   "execution_count": null,
   "id": "aa39d2e1-54aa-411b-9d67-973d0f4c8e2a",
   "metadata": {},
   "outputs": [],
   "source": [
    "df"
   ]
  },
  {
   "cell_type": "code",
   "execution_count": null,
   "id": "c41099b9-3927-41db-a5f2-79193e1c2378",
   "metadata": {},
   "outputs": [],
   "source": [
    "df.to_latex(\n",
    "    buf=here() / 'output/tables/msis.tex',\n",
    "    float_format='%.2f',\n",
    "    column_format='rccc',\n",
    "    label='tab:msis',\n",
    "    caption='Mean scaled interval score (MSIS) for the tested models',\n",
    "    position='h'\n",
    ")"
   ]
  }
 ],
 "metadata": {
  "kernelspec": {
   "display_name": "thesisenv",
   "language": "python",
   "name": "python3"
  },
  "language_info": {
   "codemirror_mode": {
    "name": "ipython",
    "version": 3
   },
   "file_extension": ".py",
   "mimetype": "text/x-python",
   "name": "python",
   "nbconvert_exporter": "python",
   "pygments_lexer": "ipython3",
   "version": "3.10.0"
  }
 },
 "nbformat": 4,
 "nbformat_minor": 5
}
