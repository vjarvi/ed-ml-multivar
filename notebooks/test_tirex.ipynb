{
 "cells": [
  {
   "cell_type": "code",
   "execution_count": null,
   "id": "35a9d60c",
   "metadata": {"tags": ["parameters"]},
   "outputs": [],
   "source": [
    "# Parameters\n",
    "CONTEXTLENGTH = 512  # will be overridden by papermill"
   ]
  },
  {
   "cell_type": "markdown",
   "id": "f8d9af49",
   "metadata": {},
   "source": [
    "this notebook loads tirex and makes predictions using it. Input context data is loaded from data/interim/data.csv. results are saved to data/processed/prediction_matrices/50/."
   ]
  },
  {
   "cell_type": "code",
   "execution_count": 1,
   "id": "534e87e2",
   "metadata": {},
   "outputs": [
    {
     "name": "stderr",
     "output_type": "stream",
     "text": [
      "/home/valtti/code/ed-ml-multivar/env-tirex/lib/python3.11/site-packages/tqdm/auto.py:21: TqdmWarning: IProgress not found. Please update jupyter and ipywidgets. See https://ipywidgets.readthedocs.io/en/stable/user_install.html\n",
      "  from .autonotebook import tqdm as notebook_tqdm\n"
     ]
    }
   ],
   "source": [
    "import os\n",
    "os.environ['TIREX_NO_CUDA'] = '1'\n",
    "\n",
    "import pandas as pd\n",
    "import torch\n",
    "import numpy as np\n",
    "import logging\n",
    "from pyprojroot import here\n",
    "\n",
    "import sys\n",
    "sys.path.append(str(here() / 'scripts'))\n",
    "sys.path.append(str(here() / 'timesfm'))\n",
    "\n",
    "from tirex import load_model, ForecastModel\n",
    "from utils import (get_data,get_y_context, save)"
   ]
  },
  {
   "cell_type": "code",
   "execution_count": null,
   "id": "8edbb92d",
   "metadata": {},
   "outputs": [],
   "source": [
    "MAXMODELCONTEXT= 12840 # max context length for this model (no context length limit for this model)\n",
    "MAXCONTEXT = 12840 # max context length for this dataset (2017-01-01 - 2018-06-19)\n",
    "if CONTEXTLENGTH > MAXMODELCONTEXT:\n",
    "    CONTEXTLENGTH = MAXMODELCONTEXT\n",
    "\n",
    "if CONTEXTLENGTH > MAXCONTEXT:\n",
    "    CONTEXTLENGTH = MAXCONTEXT\n",
    "\n",
    "MODEL = 'tirex'\n",
    "TARGET = 'occ'\n",
    "FEATURESET = 'u'\n",
    "TESTNAME = f'{TARGET}-{MODEL}-{FEATURESET}-{CONTEXTLENGTH}'\n",
    "TESTSTART = pd.Timestamp('20180620')\n",
    "TESTSIZE = 365*24\n",
    "PREDICTIONLENGTH = 24"
   ]
  },
  {
   "cell_type": "code",
   "execution_count": null,
   "id": "0cfcc286",
   "metadata": {},
   "outputs": [],
   "source": [
    "logging.basicConfig(\n",
    "        format='%(asctime)s - %(message)s', \n",
    "        level=logging.INFO,\n",
    "        filename=here() / f\"logs/logger/{TESTNAME}.log\",      \n",
    "        filemode='w'\n",
    "        )\n",
    "logging.info('Starting test.')\n",
    "logging.info(f'MODEL: {MODEL} TARGET: {TARGET} FEATURESET:'\n",
    "     f'{FEATURESET} CONTEXTLENGTH: {CONTEXTLENGTH}')"
   ]
  },
  {
   "cell_type": "code",
   "execution_count": 3,
   "id": "7f9d0e46",
   "metadata": {},
   "outputs": [],
   "source": [
    "data = get_data(TARGET, MODEL)\n",
    "cd = {\n",
    "        'occ' : 'Target:Occupancy',\n",
    "        'arr' : 'Target:Arrivals'\n",
    "    }\n",
    "target_name = cd[TARGET]\n",
    "y = data[target_name]\n",
    "y_context = get_y_context(data, TARGET, CONTEXTLENGTH, TESTSTART)\n",
    "\n",
    "y_context = y_context.to_numpy()"
   ]
  },
  {
   "cell_type": "code",
   "execution_count": 4,
   "id": "67cefa04",
   "metadata": {},
   "outputs": [],
   "source": [
    "model: ForecastModel = load_model(\"NX-AI/TiRex\")"
   ]
  },
  {
   "cell_type": "code",
   "execution_count": 5,
   "id": "d0853332",
   "metadata": {},
   "outputs": [],
   "source": [
    "forecast = model.forecast(context=y_context, prediction_length=PREDICTIONLENGTH,\n",
    "                          output_type='numpy')"
   ]
  },
  {
   "cell_type": "code",
   "execution_count": 13,
   "id": "3f329d38",
   "metadata": {},
   "outputs": [],
   "source": [
    "mean_forecast = forecast[1]\n",
    "save(model_name=MODEL, featureset_name=FEATURESET, target_name=TARGET,\n",
    "context_length=CONTEXTLENGTH, test_start=TESTSTART, y_pred=mean_forecast)"
   ]
  }
 ],
 "metadata": {
  "kernelspec": {
   "display_name": "env-tirex",
   "language": "python",
   "name": "python3"
  },
  "language_info": {
   "codemirror_mode": {
    "name": "ipython",
    "version": 3
   },
   "file_extension": ".py",
   "mimetype": "text/x-python",
   "name": "python",
   "nbconvert_exporter": "python",
   "pygments_lexer": "ipython3",
   "version": "3.11.13"
  }
 },
 "nbformat": 4,
 "nbformat_minor": 5
}
