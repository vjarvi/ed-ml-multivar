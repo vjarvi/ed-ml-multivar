{
 "cells": [
  {
   "cell_type": "code",
   "execution_count": 78,
   "id": "90ee8c45-7c12-4a8a-87a0-c47942442800",
   "metadata": {},
   "outputs": [],
   "source": [
    "import pandas as pd\n",
    "from pyprojroot import here\n",
    "import numpy as np\n",
    "from pathlib import Path\n",
    "import matplotlib.pyplot as plt\n",
    "\n",
    "from sklearn.metrics import mean_squared_error, mean_absolute_error\n",
    "\n",
    "from nutils import name_mask, colordict"
   ]
  },
  {
   "cell_type": "code",
   "execution_count": 79,
   "id": "c7ea0424-bd32-4fb1-8e21-ff6f9414bd75",
   "metadata": {},
   "outputs": [],
   "source": [
    "TARGET = 'occ'\n",
    "FS = 'u'\n",
    "CONTEXT = '12840'"
   ]
  },
  {
   "cell_type": "code",
   "execution_count": 80,
   "id": "6cc65d38-b4f4-4513-b012-303599211ee7",
   "metadata": {},
   "outputs": [],
   "source": [
    "true_matrix = pd.read_csv(\n",
    "    here() / f'data/processed/true_matrices/{TARGET}.csv',\n",
    "    index_col='datetime',\n",
    "    parse_dates=True\n",
    ")"
   ]
  },
  {
   "cell_type": "code",
   "execution_count": 81,
   "id": "f05c2202-8069-4021-bc53-c493d637b5de",
   "metadata": {},
   "outputs": [],
   "source": [
    "def flatten(matrix):\n",
    "    return matrix.values.flatten()"
   ]
  },
  {
   "cell_type": "code",
   "execution_count": 82,
   "id": "7c983993-b8b5-4c23-98bd-830a0d417d72",
   "metadata": {},
   "outputs": [],
   "source": [
    "result_list = list()\n",
    "error_list = list()\n",
    "data_path = Path('data/processed/prediction_matrices/')\n",
    "\n",
    "for p in here(data_path / '50').glob(f'*{FS}-{CONTEXT}.csv'):\n",
    "    result = dict()\n",
    "    \n",
    "    parts = p.stem.split('-')\n",
    "    \n",
    "    result['Model'] = parts[1]\n",
    "    result['FS'] = parts[2]\n",
    "    name = parts[1] + '-' + parts[2]\n",
    "    \n",
    "    pred_matrix = pd.read_csv(\n",
    "        p, \n",
    "        index_col='datetime', \n",
    "        parse_dates=True)\n",
    "    \n",
    "    idx = pred_matrix.dropna().index.intersection(true_matrix.dropna().index)\n",
    "\n",
    "    pred_matrix = pred_matrix.loc[idx]\n",
    "    true_matrix = true_matrix.loc[idx]\n",
    "    \n",
    "    true = true_matrix.groupby(true_matrix.index.month).apply(flatten).to_dict()\n",
    "    pred = pred_matrix.groupby(pred_matrix.index.month).apply(flatten).to_dict()\n",
    "    \n",
    "    for month in range(1,13):\n",
    "        rmse = mean_squared_error(true[month], pred[month], squared=False)\n",
    "        result[month] = rmse\n",
    "        \n",
    "    result_list.append(result)"
   ]
  },
  {
   "cell_type": "code",
   "execution_count": 83,
   "id": "a5041c43-7781-48e8-9f74-a5475ec6e2ea",
   "metadata": {},
   "outputs": [],
   "source": [
    "df = pd.DataFrame(result_list)"
   ]
  },
  {
   "cell_type": "code",
   "execution_count": 84,
   "id": "220b361c-4c12-4867-a3a8-d11bd0482fec",
   "metadata": {},
   "outputs": [],
   "source": [
    "df['Mean'] = df.iloc[:,2:].mean(axis=1)\n",
    "df = df.sort_values(by='Mean', ascending=False)\n",
    "df = df.drop(columns='Mean')"
   ]
  },
  {
   "cell_type": "code",
   "execution_count": 85,
   "id": "8de8a10f-dbc7-4c34-acc7-6f4239e40193",
   "metadata": {},
   "outputs": [],
   "source": [
    "df = df.set_index('Model')\n",
    "df = df.drop(columns='FS')"
   ]
  },
  {
   "cell_type": "code",
   "execution_count": 86,
   "id": "f88a444b-65b8-4957-9d00-6e039e91deb5",
   "metadata": {},
   "outputs": [
    {
     "data": {
      "image/png": "[encoded data removed]",
      "text/plain": [
       "<Figure size 1000x300 with 1 Axes>"
      ]
     },
     "metadata": {},
     "output_type": "display_data"
    }
   ],
   "source": [
    "fig, ax = plt.subplots(figsize=(10,3))\n",
    "\n",
    "# Add title with context length\n",
    "ax.set_title(f\"Monthly RMSE error for context length {CONTEXT} (hours)\", fontsize=14, pad=15)\n",
    "\n",
    "# Use a different color for each model (column) using a colormap\n",
    "import matplotlib.pyplot as plt\n",
    "import numpy as np\n",
    "\n",
    "num_models = len(df.T.columns)\n",
    "cmap = plt.get_cmap('tab20' if num_models <= 20 else 'tab20b')\n",
    "colors = [cmap(i % cmap.N) for i in range(num_models)]\n",
    "\n",
    "df.T.plot(kind='bar',\n",
    "          edgecolor='k', \n",
    "          lw=.5,\n",
    "          color=colors,\n",
    "          ax=ax,\n",
    "          width=.6)\n",
    "\n",
    "# Shrink current axis by 20%\n",
    "box = ax.get_position()\n",
    "ax.set_position([box.x0, box.y0, box.width * 0.8, box.height])\n",
    "\n",
    "ax.legend(frameon=False, \n",
    "          loc='center left', \n",
    "          bbox_to_anchor=(1, 0.5));\n",
    "\n",
    "ax.set_ylabel('RMSE')\n",
    "ax.set_xlabel('Month')\n",
    "ax.set_ylim(top=25)\n",
    "ax.set_axisbelow(True)\n",
    "ax.grid(lw=.3, ls='--', axis='y')\n",
    "\n",
    "plt.xticks(rotation=0)\n",
    "\n",
    "plt.savefig(here() / f'output/plots/performance_monthly-{FS}-{CONTEXT}.jpg', \n",
    "            bbox_inches='tight',\n",
    "            dpi=300)"
   ]
  }
 ],
 "metadata": {
  "kernelspec": {
   "display_name": "thesisenv",
   "language": "python",
   "name": "python3"
  },
  "language_info": {
   "codemirror_mode": {
    "name": "ipython",
    "version": 3
   },
   "file_extension": ".py",
   "mimetype": "text/x-python",
   "name": "python",
   "nbconvert_exporter": "python",
   "pygments_lexer": "ipython3",
   "version": "3.10.0"
  }
 },
 "nbformat": 4,
 "nbformat_minor": 5
}
