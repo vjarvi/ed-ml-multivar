{
 "cells": [
  {
   "cell_type": "code",
   "execution_count": 1,
   "id": "d53e8076-87fd-4f28-becf-5f669ef96d08",
   "metadata": {},
   "outputs": [],
   "source": [
    "import optuna\n",
    "from pyprojroot import here\n",
    "import joblib\n",
    "\n",
    "# You can use Matplotlib instead of Plotly for visualization by simply replacing `optuna.visualization` with\n",
    "# `optuna.visualization.matplotlib` in the following examples.\n",
    "from optuna.visualization.matplotlib import plot_contour\n",
    "from optuna.visualization.matplotlib import plot_edf\n",
    "from optuna.visualization.matplotlib import plot_intermediate_values\n",
    "from optuna.visualization.matplotlib import plot_optimization_history\n",
    "from optuna.visualization.matplotlib import plot_parallel_coordinate\n",
    "from optuna.visualization.matplotlib import plot_param_importances\n",
    "from optuna.visualization.matplotlib import plot_slice\n",
    "\n",
    "import matplotlib.pyplot as plt\n",
    "plt.rcParams[\"figure.dpi\"] = 300"
   ]
  },
  {
   "cell_type": "code",
   "execution_count": 2,
   "id": "6232018c-e457-4564-97ec-af64763f314c",
   "metadata": {},
   "outputs": [],
   "source": [
    "MODEL = 'deepar'\n",
    "TARGET = 'occ'\n",
    "FS = 'a'"
   ]
  },
  {
   "cell_type": "code",
   "execution_count": 3,
   "id": "0888cce4-400d-4d43-9170-5f7d45a16a8b",
   "metadata": {},
   "outputs": [
    {
     "ename": "FileNotFoundError",
     "evalue": "[Errno 2] No such file or directory: '/home/valtti/code/ed-ml-multivar/data/processed/studies/occ-deepar-a-1.pkl'",
     "output_type": "error",
     "traceback": [
      "\u001b[0;31m---------------------------------------------------------------------------\u001b[0m",
      "\u001b[0;31mFileNotFoundError\u001b[0m                         Traceback (most recent call last)",
      "Cell \u001b[0;32mIn[3], line 2\u001b[0m\n\u001b[1;32m      1\u001b[0m path \u001b[38;5;241m=\u001b[39m here() \u001b[38;5;241m/\u001b[39m \u001b[38;5;124mf\u001b[39m\u001b[38;5;124m'\u001b[39m\u001b[38;5;124mdata/processed/studies/\u001b[39m\u001b[38;5;132;01m{\u001b[39;00mTARGET\u001b[38;5;132;01m}\u001b[39;00m\u001b[38;5;124m-\u001b[39m\u001b[38;5;132;01m{\u001b[39;00mMODEL\u001b[38;5;132;01m}\u001b[39;00m\u001b[38;5;124m-\u001b[39m\u001b[38;5;132;01m{\u001b[39;00mFS\u001b[38;5;132;01m}\u001b[39;00m\u001b[38;5;124m-1.pkl\u001b[39m\u001b[38;5;124m'\u001b[39m\n\u001b[0;32m----> 2\u001b[0m study \u001b[38;5;241m=\u001b[39m \u001b[43mjoblib\u001b[49m\u001b[38;5;241;43m.\u001b[39;49m\u001b[43mload\u001b[49m\u001b[43m(\u001b[49m\u001b[38;5;28;43mstr\u001b[39;49m\u001b[43m(\u001b[49m\u001b[43mpath\u001b[49m\u001b[43m)\u001b[49m\u001b[43m)\u001b[49m\n",
      "File \u001b[0;32m~/code/ed-ml-multivar/thesisenv/lib/python3.10/site-packages/joblib/numpy_pickle.py:650\u001b[0m, in \u001b[0;36mload\u001b[0;34m(filename, mmap_mode)\u001b[0m\n\u001b[1;32m    648\u001b[0m         obj \u001b[38;5;241m=\u001b[39m _unpickle(fobj)\n\u001b[1;32m    649\u001b[0m \u001b[38;5;28;01melse\u001b[39;00m:\n\u001b[0;32m--> 650\u001b[0m     \u001b[38;5;28;01mwith\u001b[39;00m \u001b[38;5;28;43mopen\u001b[39;49m\u001b[43m(\u001b[49m\u001b[43mfilename\u001b[49m\u001b[43m,\u001b[49m\u001b[43m \u001b[49m\u001b[38;5;124;43m'\u001b[39;49m\u001b[38;5;124;43mrb\u001b[39;49m\u001b[38;5;124;43m'\u001b[39;49m\u001b[43m)\u001b[49m \u001b[38;5;28;01mas\u001b[39;00m f:\n\u001b[1;32m    651\u001b[0m         \u001b[38;5;28;01mwith\u001b[39;00m _read_fileobject(f, filename, mmap_mode) \u001b[38;5;28;01mas\u001b[39;00m fobj:\n\u001b[1;32m    652\u001b[0m             \u001b[38;5;28;01mif\u001b[39;00m \u001b[38;5;28misinstance\u001b[39m(fobj, \u001b[38;5;28mstr\u001b[39m):\n\u001b[1;32m    653\u001b[0m                 \u001b[38;5;66;03m# if the returned file object is a string, this means we\u001b[39;00m\n\u001b[1;32m    654\u001b[0m                 \u001b[38;5;66;03m# try to load a pickle file generated with an version of\u001b[39;00m\n\u001b[1;32m    655\u001b[0m                 \u001b[38;5;66;03m# Joblib so we load it with joblib compatibility function.\u001b[39;00m\n",
      "\u001b[0;31mFileNotFoundError\u001b[0m: [Errno 2] No such file or directory: '/home/valtti/code/ed-ml-multivar/data/processed/studies/occ-deepar-a-1.pkl'"
     ]
    }
   ],
   "source": [
    "path = here() / f'data/processed/studies/{TARGET}-{MODEL}-{FS}-1.pkl'\n",
    "study = joblib.load(str(path))"
   ]
  },
  {
   "cell_type": "code",
   "execution_count": null,
   "id": "bc40d29f-6a53-415a-bd5e-467c2fc9cb07",
   "metadata": {},
   "outputs": [],
   "source": [
    "plot_contour(study);"
   ]
  },
  {
   "cell_type": "code",
   "execution_count": null,
   "id": "1f7dba79-95f6-415e-8f4c-b608b4c17982",
   "metadata": {},
   "outputs": [],
   "source": [
    "plot_edf(study);"
   ]
  },
  {
   "cell_type": "code",
   "execution_count": null,
   "id": "5f663445-1a59-4ed6-b005-1eed382fff30",
   "metadata": {},
   "outputs": [],
   "source": [
    "plot_optimization_history(study);\n",
    "plt.savefig(here() / f'output/plots/hpo_history_{TARGET}-{MODEL}-{FS}.jpg', \n",
    "            dpi=300, bbox_inches='tight')"
   ]
  },
  {
   "cell_type": "code",
   "execution_count": null,
   "id": "be7a521a-cd92-45e5-8503-6d807febf07f",
   "metadata": {},
   "outputs": [],
   "source": [
    "plot_parallel_coordinate(study);"
   ]
  },
  {
   "cell_type": "code",
   "execution_count": null,
   "id": "2bfb9178-319e-48d1-937e-4d187566cbbf",
   "metadata": {},
   "outputs": [],
   "source": [
    "plot_param_importances(study)"
   ]
  },
  {
   "cell_type": "code",
   "execution_count": null,
   "id": "ae6b2de3-d486-450e-822f-f1a1754da392",
   "metadata": {},
   "outputs": [],
   "source": [
    "plot_slice(study);"
   ]
  },
  {
   "cell_type": "code",
   "execution_count": null,
   "id": "10d73dc0-f274-4201-8914-a898bee59e73",
   "metadata": {},
   "outputs": [],
   "source": [
    "study.best_params"
   ]
  }
 ],
 "metadata": {
  "kernelspec": {
   "display_name": "thesisenv",
   "language": "python",
   "name": "python3"
  },
  "language_info": {
   "codemirror_mode": {
    "name": "ipython",
    "version": 3
   },
   "file_extension": ".py",
   "mimetype": "text/x-python",
   "name": "python",
   "nbconvert_exporter": "python",
   "pygments_lexer": "ipython3",
   "version": "3.10.0"
  }
 },
 "nbformat": 4,
 "nbformat_minor": 5
}
