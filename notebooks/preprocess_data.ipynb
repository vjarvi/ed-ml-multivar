{
 "cells": [
  {
   "cell_type": "code",
   "execution_count": null,
   "metadata": {},
   "outputs": [],
   "source": [
    "import pandas as pd\n",
    "from pyprojroot import here\n",
    "\n",
    "pd.set_option('display.max_rows', 100)\n",
    "\n",
    "data = pd.read_csv(\n",
    "    here() / 'data/raw/data.csv',\n",
    "    index_col='datetime',\n",
    "    parse_dates=True)\n",
    "\n",
    "beds = data.loc[:,data.columns.str.startswith('Beds')]\n",
    "data = data.drop(columns=beds.columns)\n",
    "\n",
    "# Some hospitals don't have any data prior to 2018 so we drop these\n",
    "drop_these = ['Beds:HC_10', \n",
    "              'Beds:HC_11_(Ward_01)',\n",
    "              'Beds:HC_11_(Ward_02)',\n",
    "              'Beds:HC_11_(Ward_03)',\n",
    "              'Beds:UH_(Ward_01)',\n",
    "              'Beds:UH_(Ward_02)',\n",
    "              'Beds:HC_14',\n",
    "              'Beds:RH_B_(Ward_01)',\n",
    "              'Beds:RH_B_(Ward_02)'\n",
    "              ]\n",
    "\n",
    "beds = beds.drop(columns=drop_these)\n",
    "conversion = {\n",
    "    'Beds:HC_12' : 'Beds:HC_10',\n",
    "    'Beds:HC_13' : 'Beds:HC_11',\n",
    "    'Beds:HC_15' : 'Beds:HC_12'\n",
    "}\n",
    "beds = beds.rename(columns=conversion).copy()\n",
    "beds = beds.apply(lambda row: row.fillna(row.mean()), axis=1)\n",
    "data = pd.concat([data, beds], axis=1)\n",
    "\n",
    "data = data[data.columns.sort_values()]\n",
    "\n",
    "data.to_csv(here() / 'data/interim/data.csv')"
   ]
  }
 ],
 "metadata": {
  "kernelspec": {
   "display_name": "ed-tft-3",
   "language": "python",
   "name": "ed-tft-3"
  },
  "language_info": {
   "codemirror_mode": {
    "name": "ipython",
    "version": 3
   },
   "file_extension": ".py",
   "mimetype": "text/x-python",
   "name": "python",
   "nbconvert_exporter": "python",
   "pygments_lexer": "ipython3",
   "version": "3.8.13"
  }
 },
 "nbformat": 4,
 "nbformat_minor": 4
}