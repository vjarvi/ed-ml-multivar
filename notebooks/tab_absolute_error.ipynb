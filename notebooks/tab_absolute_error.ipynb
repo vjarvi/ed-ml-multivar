{
 "cells": [
  {
   "cell_type": "code",
   "execution_count": null,
   "id": "0f150b83-eb66-47b9-9fd0-a3e4827bf24b",
   "metadata": {},
   "outputs": [],
   "source": [
    "# This notebooks calculates and exports absolute error tables that can be then \n",
    "# read for statistical analysis"
   ]
  },
  {
   "cell_type": "code",
   "execution_count": null,
   "id": "92a9722a-0b26-4b48-bb5d-e2535d8e2928",
   "metadata": {},
   "outputs": [],
   "source": [
    "import pandas as pd\n",
    "from pyprojroot import here\n",
    "import numpy as np\n",
    "from pathlib import Path\n",
    "\n",
    "from sklearn.metrics import mean_squared_error, mean_absolute_error\n",
    "import scikit_posthocs as sp\n",
    "\n",
    "from nutils import interval_score, bootstrap, name_mask"
   ]
  },
  {
   "cell_type": "code",
   "execution_count": null,
   "id": "38d1558d-05b0-4919-a174-370970443852",
   "metadata": {},
   "outputs": [],
   "source": [
    "TARGET = 'occ'"
   ]
  },
  {
   "cell_type": "code",
   "execution_count": null,
   "id": "eaf72c18-4eb6-45c1-a997-8ad05bce0839",
   "metadata": {},
   "outputs": [],
   "source": [
    "true_matrix = pd.read_csv(\n",
    "    here() / f'data/processed/true_matrices/{TARGET}.csv',\n",
    "    index_col='datetime',\n",
    "    parse_dates=True\n",
    ")"
   ]
  },
  {
   "cell_type": "code",
   "execution_count": null,
   "id": "46acc633-3847-4122-9b5e-9495a8cdce36",
   "metadata": {},
   "outputs": [],
   "source": [
    "frame = list()\n",
    "data_path = Path('data/processed/prediction_matrices/')\n",
    "\n",
    "for p in here(data_path / '50').glob('*1.csv'):\n",
    "    \n",
    "    result = dict()\n",
    "    \n",
    "    parts = p.stem.split('-')\n",
    "    \n",
    "    model = parts[1]\n",
    "    fs = parts[2]\n",
    "    name= model + '-' + fs\n",
    "    \n",
    "    pred_matrix = pd.read_csv(\n",
    "        p, \n",
    "        index_col='datetime', \n",
    "        parse_dates=True)\n",
    "    \n",
    "    idx = pred_matrix.dropna().index.intersection(true_matrix.dropna().index)\n",
    "\n",
    "    pred_vector = pred_matrix.loc[idx].values.flatten()\n",
    "    true_vector = true_matrix.loc[idx].values.flatten()\n",
    "        \n",
    "    error = np.abs(pred_vector - true_vector)\n",
    "    error = pd.Series(error, name=name)\n",
    "    frame.append(error)"
   ]
  },
  {
   "cell_type": "code",
   "execution_count": null,
   "id": "d406b26c-9fb1-4401-a9f4-7adb586ffdb3",
   "metadata": {},
   "outputs": [],
   "source": [
    "frame = pd.concat(frame, axis=1)"
   ]
  },
  {
   "cell_type": "code",
   "execution_count": null,
   "id": "1a435451-f584-4221-af91-2cbbf1ea67cb",
   "metadata": {},
   "outputs": [],
   "source": [
    "melt = frame.melt()"
   ]
  },
  {
   "cell_type": "code",
   "execution_count": null,
   "id": "c73b96b9-7cb9-4632-9574-abca36f304d7",
   "metadata": {},
   "outputs": [],
   "source": [
    "melt"
   ]
  },
  {
   "cell_type": "code",
   "execution_count": null,
   "id": "bd87e582-cd9e-4c5d-bd73-60967eee2644",
   "metadata": {},
   "outputs": [],
   "source": [
    "table = sp.posthoc_dunn(melt, val_col='value', group_col='variable', p_adjust='holm')\n",
    "table.round(3)"
   ]
  }
 ],
 "metadata": {
  "kernelspec": {
   "display_name": "ed-tft-3",
   "language": "python",
   "name": "ed-tft-3"
  },
  "language_info": {
   "codemirror_mode": {
    "name": "ipython",
    "version": 3
   },
   "file_extension": ".py",
   "mimetype": "text/x-python",
   "name": "python",
   "nbconvert_exporter": "python",
   "pygments_lexer": "ipython3",
   "version": "3.11.4"
  }
 },
 "nbformat": 4,
 "nbformat_minor": 5
}