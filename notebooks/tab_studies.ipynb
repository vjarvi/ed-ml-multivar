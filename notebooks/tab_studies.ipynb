{
 "cells": [
  {
   "cell_type": "code",
   "execution_count": null,
   "id": "5686a840-b565-4246-84ee-85520c13afe1",
   "metadata": {},
   "outputs": [],
   "source": [
    "import pandas as pd\n",
    "from pyprojroot import here\n",
    "import joblib"
   ]
  },
  {
   "cell_type": "code",
   "execution_count": null,
   "id": "649b531b-55c0-4762-8234-d3505d39cad8",
   "metadata": {},
   "outputs": [],
   "source": [
    "results = []\n",
    "\n",
    "for p in here('data/processed/studies').glob('*.pkl'):\n",
    "    \n",
    "    result = dict()\n",
    "    \n",
    "    # names\n",
    "    stem = p.stem.split('-')\n",
    "    result['target'] = stem[0]\n",
    "    result['model'] = stem[1]\n",
    "    result['fs'] = stem[2]\n",
    "    result['hpo'] = stem[3]\n",
    "    try:\n",
    "        study = joblib.load(str(p))\n",
    "    except Exception as e:\n",
    "        print(e)\n",
    "        continue\n",
    "    \n",
    "    result['trials n'] = len(study.trials)\n",
    "    result['trial time min'] = study.trials_dataframe().duration.mean().seconds / 60\n",
    "    result['hpo time h'] = study.trials_dataframe().duration.sum().seconds / 60 / 60\n",
    "    \n",
    "    results.append(result)\n",
    "    \n",
    "df = pd.DataFrame(results)\n",
    "df = df.sort_values(by='trials n').round(1)\n",
    "df = df.set_index('target')"
   ]
  },
  {
   "cell_type": "code",
   "execution_count": null,
   "id": "377ba260-84d6-4df7-824e-aa3eee57ccac",
   "metadata": {},
   "outputs": [],
   "source": [
    "df.sum()"
   ]
  },
  {
   "cell_type": "code",
   "execution_count": null,
   "id": "0cd33117-a940-4504-9056-5db5cf31305e",
   "metadata": {},
   "outputs": [],
   "source": [
    "df.to_latex(\n",
    "    buf = here() / 'output/tables/studies.tex',\n",
    "    float_format='%.2f',\n",
    "    column_format='rcccccc',\n",
    "    label='tab:studies',\n",
    "    caption='Study statistics',\n",
    "    position='h'\n",
    ")"
   ]
  }
 ],
 "metadata": {
  "kernelspec": {
   "display_name": "ed-tft-3",
   "language": "python",
   "name": "ed-tft-3"
  },
  "language_info": {
   "codemirror_mode": {
    "name": "ipython",
    "version": 3
   },
   "file_extension": ".py",
   "mimetype": "text/x-python",
   "name": "python",
   "nbconvert_exporter": "python",
   "pygments_lexer": "ipython3",
   "version": "3.11.4"
  }
 },
 "nbformat": 4,
 "nbformat_minor": 5
}