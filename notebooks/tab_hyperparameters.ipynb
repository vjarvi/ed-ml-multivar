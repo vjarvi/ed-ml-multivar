{
 "cells": [
  {
   "cell_type": "code",
   "execution_count": null,
   "id": "2c2776a4-1a07-4c26-a053-a55ff9e9d82b",
   "metadata": {},
   "outputs": [],
   "source": [
    "import pandas as pd\n",
    "from pyprojroot import here\n",
    "import joblib\n",
    "\n",
    "from darts.models import NBEATSModel, LightGBMModel, RNNModel, TFTModel"
   ]
  },
  {
   "cell_type": "code",
   "execution_count": null,
   "id": "07a3b586-2e2c-4630-acf5-159624426ea8",
   "metadata": {},
   "outputs": [],
   "source": [
    "results = []\n",
    "\n",
    "for p in here('data/processed/studies').glob('*.pkl'):\n",
    "    # names\n",
    "    stem = p.stem.split('-')\n",
    "    try:\n",
    "        study = joblib.load(str(p))\n",
    "    except Exception as e:\n",
    "        print(e)\n",
    "        continue\n",
    "    \n",
    "    print(stem[1], stem[2], study.best_params)\n",
    "    print()"
   ]
  }
 ],
 "metadata": {
  "kernelspec": {
   "display_name": "ed-tft-3",
   "language": "python",
   "name": "ed-tft-3"
  },
  "language_info": {
   "codemirror_mode": {
    "name": "ipython",
    "version": 3
   },
   "file_extension": ".py",
   "mimetype": "text/x-python",
   "name": "python",
   "nbconvert_exporter": "python",
   "pygments_lexer": "ipython3",
   "version": "3.11.4"
  }
 },
 "nbformat": 4,
 "nbformat_minor": 5
}