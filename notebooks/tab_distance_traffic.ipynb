{
 "cells": [
  {
   "cell_type": "code",
   "execution_count": null,
   "id": "5d008063-7d0a-4b54-b09f-d3b1e9371fb1",
   "metadata": {},
   "outputs": [],
   "source": [
    "import pandas as pd\n",
    "import geopandas as gpd\n",
    "import matplotlib.pyplot as plt\n",
    "from pyprojroot import here\n",
    "import numpy as np\n",
    "\n",
    "import geopy.distance\n",
    "\n",
    "plt.rcParams[\"figure.dpi\"] = 300"
   ]
  },
  {
   "cell_type": "code",
   "execution_count": null,
   "id": "bbfbc59f-ff13-47db-8f11-eac985c59187",
   "metadata": {},
   "outputs": [],
   "source": [
    "g = (37/255, 194/255, 104/255)\n",
    "r = (245/255, 50/255, 88/255)\n",
    "b = (18/255, 137/255, 223/255)"
   ]
  },
  {
   "cell_type": "code",
   "execution_count": null,
   "id": "bdb5e588-6606-4267-be05-d395e5f254c5",
   "metadata": {},
   "outputs": [],
   "source": [
    "def get_distances(df, point):\n",
    "    \"\"\"\n",
    "    \"\"\"\n",
    "    distances = []\n",
    "    for k, v in df.iterrows():\n",
    "        point = (v['Latitude'], v['Longitude'])\n",
    "        distance = geopy.distance.distance(point, uh)\n",
    "        distance = np.round(distance.km, 0)\n",
    "        distances.append(int(distance))\n",
    "    return distances\n",
    "\n",
    "uh = (61.50495152210983, 23.81428575111893)"
   ]
  },
  {
   "attachments": {},
   "cell_type": "markdown",
   "id": "176861f8-68cf-4e03-9259-084713ab3088",
   "metadata": {},
   "source": [
    "# Traffic"
   ]
  },
  {
   "cell_type": "code",
   "execution_count": null,
   "id": "21b2a02c-501d-41d4-ba54-51b5bd8fb4bf",
   "metadata": {},
   "outputs": [],
   "source": [
    "# HOSPITAL\n",
    "df = pd.DataFrame({\n",
    "    'Location':'Hospital', \n",
    "    'Latitude':61.50495152210983, \n",
    "    'Longitude': 23.81428575111893\n",
    "    }, index=[0]\n",
    ")\n",
    "\n",
    "uh = (61.50495152210983, 23.81428575111893)\n",
    "\n",
    "# TRAFFIC\n",
    "traffic = pd.read_csv(here() / 'data/raw/lam_info.csv')\n",
    "traffic = gpd.GeoDataFrame(\n",
    "    traffic, \n",
    "    geometry=gpd.points_from_xy(traffic.longitude, traffic.latitude), \n",
    "    crs='WGS 84')\n",
    "\n",
    "traffic.geometry = traffic.geometry.to_crs(epsg=3857)\n",
    "traffic.columns = traffic.columns.str.capitalize()\n",
    "traffic['Distance (km)'] = get_distances(traffic, uh)\n",
    "traffic = traffic.rename(columns={'Tmsnumber':'Identifier'})"
   ]
  },
  {
   "cell_type": "code",
   "execution_count": null,
   "id": "d4c0f920-0f39-4c1a-834d-be7f1d6b5dc9",
   "metadata": {},
   "outputs": [],
   "source": [
    "traffic = traffic[['Identifier', 'Latitude', 'Longitude', 'Distance (km)']]\n",
    "traffic = traffic.sort_values(by='Identifier', ascending=True)\n",
    "traffic = traffic.reset_index(drop=True)\n",
    "traffic.to_latex(\n",
    "        buf=here() / 'output/tables/distance_traffic.tex',\n",
    "        caption='Locations of automatic traffic monitoring nodes',\n",
    "        column_format='rcccc',\n",
    "        position='H',\n",
    "        index=True\n",
    ")"
   ]
  },
  {
   "attachments": {},
   "cell_type": "markdown",
   "id": "aa3103b4-24b8-4611-86f5-d2dc3c8b95a2",
   "metadata": {},
   "source": [
    "# Hospitals"
   ]
  },
  {
   "cell_type": "code",
   "execution_count": null,
   "id": "a98de028-68eb-48b6-b51f-02f236cde291",
   "metadata": {},
   "outputs": [],
   "source": [
    "# FOLLOW UP CARE\n",
    "df = pd.DataFrame(\n",
    "    [\n",
    "        ['HC01', 61.284160783168346, 24.034777708321975, 'Akaan terveyskeskus'],\n",
    "        ['HC02', 61.63755749718059, 23.193016156720258, 'H\u00e4meenkyr\u00f6n terveyskeskus'],\n",
    "        ['RHA', 61.48438404565605, 23.757654899044628, 'Hatanp\u00e4\u00e4n sairaala'],\n",
    "        ['HC03', 61.769611332196256, 23.073668443230837, 'Ikaalisten terveyskeskus'],\n",
    "        ['HC04', 61.45813956005358, 24.084322387400356, 'Kangasalan terveyskeskus'],\n",
    "        ['HC05', 61.31767812364606, 23.747962809926506, 'Lemp\u00e4\u00e4l\u00e4n terveyskeskus'],\n",
    "        ['HC06', 61.4805542573431, 23.46585389346253, 'Nokian terveyskeskus'],\n",
    "        ['HC08', 61.66352133126079, 24.365685814392243, 'Oriveden terveyskeskus'],\n",
    "        ['HC09', 61.461407845329006, 23.63771085856472, 'Pirkkalan terveyskeskus'],\n",
    "        ['HC10', 61.98270381988533, 24.076371535838657, 'Ruoveden terveyskeskus'],\n",
    "        ['HC11', 61.33711130045764, 22.92322905962214, 'Sastmalan terveyskeskus'],\n",
    "        ['HC12', 61.08256980112081, 23.561753597039782, 'Urjalan terveyskeskus'],\n",
    "        ['HC13', 61.27114756407963, 24.030152558415626, 'Valkeakosken terveyskus'],\n",
    "        ['HC14', 62.24074861773769, 23.75987141426197, 'Virtain terveyskeskus'],\n",
    "        ['HC15', 61.546931104154176, 23.600148267083743, 'Yl\u00f6j\u00e4rven terveyskeskus'],\n",
    "        ['RHB', 61.270091939901704, 24.031116341222944, 'Valkeakosken aluesairaala']\n",
    "    ],\n",
    "    columns=['Identifier', 'Latitude', 'Longitude', 'Location']\n",
    ")\n",
    "\n",
    "hospitals = gpd.GeoDataFrame(df, \n",
    "                             geometry=gpd.points_from_xy(df.Longitude, df.Latitude), \n",
    "                             crs='ETRS89')\n",
    "\n",
    "hospitals.geometry = hospitals.geometry.to_crs(epsg=3857)"
   ]
  },
  {
   "cell_type": "code",
   "execution_count": null,
   "id": "1fd156ce-731c-4ebc-b206-c3ef9d175205",
   "metadata": {},
   "outputs": [],
   "source": [
    "distances = get_distances(hospitals, uh)\n",
    "hospitals['Distance (km)'] = distances"
   ]
  },
  {
   "cell_type": "code",
   "execution_count": null,
   "id": "da89da18-af44-491b-bb2b-dd5bef915b7f",
   "metadata": {},
   "outputs": [],
   "source": [
    "hospitals = hospitals[['Identifier', 'Latitude', 'Longitude', 'Distance (km)']]\n",
    "hospitals = hospitals.sort_values(by='Identifier', ascending=True)\n",
    "hospitals = hospitals.reset_index(drop=True)\n",
    "hospitals.to_latex(\n",
    "        buf=here() / 'output/tables/distance_hospitals.tex',\n",
    "        caption='Locations of follow-up care hospitals',\n",
    "        column_format='rcccc',\n",
    "        position='H', \n",
    "        index=True,\n",
    "        \n",
    ")"
   ]
  }
 ],
 "metadata": {
  "kernelspec": {
   "display_name": "ed-tft-3",
   "language": "python",
   "name": "ed-tft-3"
  },
  "language_info": {
   "codemirror_mode": {
    "name": "ipython",
    "version": 3
   },
   "file_extension": ".py",
   "mimetype": "text/x-python",
   "name": "python",
   "nbconvert_exporter": "python",
   "pygments_lexer": "ipython3",
   "version": "3.8.13"
  }
 },
 "nbformat": 4,
 "nbformat_minor": 5
}