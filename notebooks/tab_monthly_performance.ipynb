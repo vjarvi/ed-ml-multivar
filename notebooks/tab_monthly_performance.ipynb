{
 "cells": [
  {
   "cell_type": "code",
   "execution_count": 1,
   "id": "8e89bce1-c639-4358-8c40-b0f24b47e548",
   "metadata": {},
   "outputs": [],
   "source": [
    "import pandas as pd\n",
    "from pyprojroot import here\n",
    "import numpy as np\n",
    "from pathlib import Path\n",
    "\n",
    "from sklearn.metrics import mean_squared_error, mean_absolute_error\n",
    "from scipy.stats import kruskal, ranksums\n",
    "import scikit_posthocs as sp\n",
    "\n",
    "from nutils import interval_score, bootstrap, name_mask, pairwise"
   ]
  },
  {
   "cell_type": "code",
   "execution_count": 2,
   "id": "0333334a-2765-48ba-a7c5-4064d2b1b9df",
   "metadata": {},
   "outputs": [],
   "source": [
    "TARGET = 'occ'"
   ]
  },
  {
   "cell_type": "code",
   "execution_count": 3,
   "id": "d241651c-d946-482b-be1d-0f694a723dc8",
   "metadata": {},
   "outputs": [],
   "source": [
    "true_matrix = pd.read_csv(\n",
    "    here() / f'data/processed/true_matrices/{TARGET}.csv',\n",
    "    index_col='datetime',\n",
    "    parse_dates=True\n",
    ")"
   ]
  },
  {
   "cell_type": "code",
   "execution_count": 4,
   "id": "a4ae2999-8f55-465e-85dc-ffa35a43084d",
   "metadata": {},
   "outputs": [],
   "source": [
    "def flatten(matrix):\n",
    "    return matrix.values.flatten()"
   ]
  },
  {
   "cell_type": "code",
   "execution_count": 5,
   "id": "a46859f7-6b68-42f0-813a-5df2ae9ca69e",
   "metadata": {},
   "outputs": [],
   "source": [
    "result_list = list()\n",
    "error_list = list()\n",
    "data_path = Path('data/processed/prediction_matrices/')\n",
    "\n",
    "for p in here(data_path / '50').glob('*1.csv'):\n",
    "    \n",
    "    result = dict()\n",
    "    \n",
    "    parts = p.stem.split('-')\n",
    "    \n",
    "    result['Model'] = parts[1]\n",
    "    result['FS'] = parts[2]\n",
    "    name = parts[1] + '-' + parts[2]\n",
    "    \n",
    "    pred_matrix = pd.read_csv(\n",
    "        p, \n",
    "        index_col='datetime', \n",
    "        parse_dates=True)\n",
    "    \n",
    "    idx = pred_matrix.dropna().index.intersection(true_matrix.dropna().index)\n",
    "\n",
    "    pred_matrix = pred_matrix.loc[idx]\n",
    "    true_matrix = true_matrix.loc[idx]\n",
    "    \n",
    "    true = true_matrix.groupby(true_matrix.index.month).apply(flatten).to_dict()\n",
    "    pred = pred_matrix.groupby(pred_matrix.index.month).apply(flatten).to_dict()\n",
    "    \n",
    "    for month in range(1,13):\n",
    "        rmse = mean_squared_error(true[month], pred[month])\n",
    "        result[month] = rmse\n",
    "        \n",
    "    result_list.append(result)"
   ]
  },
  {
   "cell_type": "code",
   "execution_count": 6,
   "id": "bd216688-9ab3-4947-ab8c-1c3f23c19147",
   "metadata": {},
   "outputs": [],
   "source": [
    "df = pd.DataFrame(result_list)\n",
    "\n",
    "df = df.round(0)\n",
    "df.Model.replace(name_mask, inplace=True)\n",
    "df.FS = df.FS.str.upper()\n",
    "\n",
    "df['Mean'] = df.iloc[:,2:].mean(axis=1)\n",
    "df = df.sort_values(by='Mean', ascending=False)\n",
    "df = df.drop(columns='Mean')"
   ]
  },
  {
   "cell_type": "code",
   "execution_count": 7,
   "id": "c0e0ef74-618d-49ad-8037-d6255dede64c",
   "metadata": {},
   "outputs": [
    {
     "name": "stderr",
     "output_type": "stream",
     "text": [
      "/tmp/ipykernel_24160/1518682526.py:1: DeprecationWarning: In a future version, `df.iloc[:, i] = newvals` will attempt to set the values inplace instead of always setting a new array. To retain the old behavior, use either `df[df.columns[i]] = newvals` or, if columns are non-unique, `df.isetitem(i, newvals)`\n",
      "  df.iloc[:,2:] = df.iloc[:,2:].astype(int)\n"
     ]
    }
   ],
   "source": [
    "df.iloc[:,2:] = df.iloc[:,2:].astype(int)"
   ]
  },
  {
   "cell_type": "code",
   "execution_count": 8,
   "id": "9c0277a8-3a31-486b-95d1-1ce23a0d5308",
   "metadata": {},
   "outputs": [
    {
     "data": {
      "text/html": [
       "<div>\n",
       "<style scoped>\n",
       "    .dataframe tbody tr th:only-of-type {\n",
       "        vertical-align: middle;\n",
       "    }\n",
       "\n",
       "    .dataframe tbody tr th {\n",
       "        vertical-align: top;\n",
       "    }\n",
       "\n",
       "    .dataframe thead th {\n",
       "        text-align: right;\n",
       "    }\n",
       "</style>\n",
       "<table border=\"1\" class=\"dataframe\">\n",
       "  <thead>\n",
       "    <tr style=\"text-align: right;\">\n",
       "      <th></th>\n",
       "      <th>Model</th>\n",
       "      <th>FS</th>\n",
       "      <th>1</th>\n",
       "      <th>2</th>\n",
       "      <th>3</th>\n",
       "      <th>4</th>\n",
       "      <th>5</th>\n",
       "      <th>6</th>\n",
       "      <th>7</th>\n",
       "      <th>8</th>\n",
       "      <th>9</th>\n",
       "      <th>10</th>\n",
       "      <th>11</th>\n",
       "      <th>12</th>\n",
       "    </tr>\n",
       "  </thead>\n",
       "  <tbody>\n",
       "    <tr>\n",
       "      <th>0</th>\n",
       "      <td>SN</td>\n",
       "      <td>U</td>\n",
       "      <td>153</td>\n",
       "      <td>193</td>\n",
       "      <td>177</td>\n",
       "      <td>124</td>\n",
       "      <td>149</td>\n",
       "      <td>165</td>\n",
       "      <td>145</td>\n",
       "      <td>164</td>\n",
       "      <td>147</td>\n",
       "      <td>162</td>\n",
       "      <td>126</td>\n",
       "      <td>197</td>\n",
       "    </tr>\n",
       "  </tbody>\n",
       "</table>\n",
       "</div>"
      ],
      "text/plain": [
       "  Model FS    1    2    3    4    5    6    7    8    9   10   11   12\n",
       "0    SN  U  153  193  177  124  149  165  145  164  147  162  126  197"
      ]
     },
     "execution_count": 8,
     "metadata": {},
     "output_type": "execute_result"
    }
   ],
   "source": [
    "df"
   ]
  },
  {
   "cell_type": "code",
   "execution_count": 9,
   "id": "c3791df5-067a-48d3-a103-3e1ef0ca4b58",
   "metadata": {},
   "outputs": [
    {
     "data": {
      "text/plain": [
       "1     153.0\n",
       "2     193.0\n",
       "3     177.0\n",
       "4     124.0\n",
       "5     149.0\n",
       "6     165.0\n",
       "7     145.0\n",
       "8     164.0\n",
       "9     147.0\n",
       "10    162.0\n",
       "11    126.0\n",
       "12    197.0\n",
       "dtype: float64"
      ]
     },
     "execution_count": 9,
     "metadata": {},
     "output_type": "execute_result"
    }
   ],
   "source": [
    "df.median(numeric_only=True)"
   ]
  },
  {
   "cell_type": "code",
   "execution_count": null,
   "id": "cfe90049-afbd-4e2b-8009-015cc2f931e5",
   "metadata": {},
   "outputs": [],
   "source": [
    "df.to_latex(\n",
    "    buf = here() / 'output/tables/monthly_performance.tex',\n",
    "    #float_format='%.0f',\n",
    "    column_format='rp{5pt}p{5pt}p{5pt}p{5pt}p{5pt}p{5pt}p{5pt}p{5pt}p{5pt}p{5pt}p{5pt}p{5pt}p{5pt}',\n",
    "    label='tab:monthly_performance',\n",
    "    caption='Monthly performance of the tested models in RMSE.\\\n",
    "    FS = feature set',\n",
    "    position='H',\n",
    "    index=False,\n",
    "    na_rep='-'\n",
    ")"
   ]
  },
  {
   "cell_type": "code",
   "execution_count": 10,
   "id": "49d5b487-bd09-4918-a734-756505178902",
   "metadata": {},
   "outputs": [],
   "source": [
    "# Plot\n",
    "df['Model'] = df['Model'] + '-' + df['FS']\n",
    "df = df.drop(columns='FS')\n",
    "df = df.set_index('Model')"
   ]
  },
  {
   "cell_type": "code",
   "execution_count": 11,
   "id": "7725e9b5-30da-49ba-bc0b-fe8a103ecc47",
   "metadata": {},
   "outputs": [
    {
     "data": {
      "text/plain": [
       "<Axes: >"
      ]
     },
     "execution_count": 11,
     "metadata": {},
     "output_type": "execute_result"
    },
    {
     "data": {
      "image/png": "[encoded data removed]",
      "text/plain": [
       "<Figure size 640x480 with 1 Axes>"
      ]
     },
     "metadata": {},
     "output_type": "display_data"
    }
   ],
   "source": [
    "df.T.plot(kind='bar', width=.8)"
   ]
  }
 ],
 "metadata": {
  "kernelspec": {
   "display_name": "thesisenv",
   "language": "python",
   "name": "python3"
  },
  "language_info": {
   "codemirror_mode": {
    "name": "ipython",
    "version": 3
   },
   "file_extension": ".py",
   "mimetype": "text/x-python",
   "name": "python",
   "nbconvert_exporter": "python",
   "pygments_lexer": "ipython3",
   "version": "3.10.0"
  }
 },
 "nbformat": 4,
 "nbformat_minor": 5
}
