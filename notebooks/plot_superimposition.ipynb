{
 "cells": [
  {
   "cell_type": "code",
   "execution_count": null,
   "id": "cc7e75b0-bcc3-4639-8d6f-ee3d13ccc040",
   "metadata": {},
   "outputs": [],
   "source": [
    "import pandas as pd\n",
    "from pyprojroot import here\n",
    "import numpy as np\n",
    "import matplotlib.pyplot as plt"
   ]
  },
  {
   "cell_type": "code",
   "execution_count": null,
   "id": "4e82fd91-8660-4ee6-923e-f7918d918b04",
   "metadata": {
    "tags": [
     "parameters"
    ]
   },
   "outputs": [],
   "source": [
    "TARGET = 'occ'\n",
    "FS = 'a'\n",
    "T = 80\n",
    "HPO = 1"
   ]
  },
  {
   "cell_type": "code",
   "execution_count": null,
   "id": "fa88bd86-0ef1-45d6-95c4-77e8a1aa04c6",
   "metadata": {},
   "outputs": [],
   "source": [
    "true_matrix = pd.read_csv(\n",
    "    here() / f'data/processed/true_matrices/{TARGET}.csv',\n",
    "    index_col='datetime',\n",
    "    parse_dates=True\n",
    ")\n",
    "y_true = true_matrix.max(axis=1)\n",
    "\n",
    "preds = []\n",
    "\n",
    "for p in here('data/processed/prediction_matrices/50').glob(f'*1.csv'):\n",
    "    result = dict()\n",
    "    parts = p.stem.split('-')\n",
    "    \n",
    "    result['Model'] = parts[1]\n",
    "    result['FS'] = parts[2]\n",
    "    name = parts[1] + '-' + parts[2]\n",
    "    result['name'] = name\n",
    "    \n",
    "    pred_matrix = pd.read_csv(\n",
    "        p, \n",
    "        index_col='datetime', \n",
    "        parse_dates=True)\n",
    "    \n",
    "    y_pred = pred_matrix.max(axis=1)\n",
    "    y_pred.name = name\n",
    "    \n",
    "    preds.append(y_pred)"
   ]
  },
  {
   "cell_type": "code",
   "execution_count": null,
   "id": "03d70436-412e-47c7-9d15-ce833952cf72",
   "metadata": {},
   "outputs": [],
   "source": [
    "df = pd.DataFrame(preds).T"
   ]
  },
  {
   "cell_type": "code",
   "execution_count": null,
   "id": "113f96c0-39c3-49fb-9f91-bfd998ff5af0",
   "metadata": {},
   "outputs": [],
   "source": [
    "fig, axs = plt.subplots(nrows=4, ncols=3, sharex=True, figsize=(12,8))\n",
    "\n",
    "for c, ax in zip(df.columns, axs.flatten()):\n",
    "    df[c].plot(ax=ax, zorder=1)\n",
    "    y_true[df[c].index].plot(ax=ax, zorder=0)\n",
    "    ax.set_title(c.upper())\n",
    "\n",
    "plt.tight_layout()\n",
    "plt.savefig(here() / 'output/plots/superimposition.jpg', bbox_inches='tight', dpi=300)"
   ]
  }
 ],
 "metadata": {
  "kernelspec": {
   "display_name": "ed-tft-3",
   "language": "python",
   "name": "ed-tft-3"
  },
  "language_info": {
   "codemirror_mode": {
    "name": "ipython",
    "version": 3
   },
   "file_extension": ".py",
   "mimetype": "text/x-python",
   "name": "python",
   "nbconvert_exporter": "python",
   "pygments_lexer": "ipython3",
   "version": "3.8.13"
  }
 },
 "nbformat": 4,
 "nbformat_minor": 5
}