{
 "cells": [
  {
   "cell_type": "code",
   "execution_count": null,
   "id": "42feb5c5-74b0-4a95-99d0-a97d38563e92",
   "metadata": {},
   "outputs": [],
   "source": [
    "import pandas as pd\n",
    "import matplotlib.pyplot as plt\n",
    "import matplotlib as mpl\n",
    "from pyprojroot import here\n",
    "\n",
    "from darts.models import LightGBMModel, TFTModel\n",
    "from darts.explainability.shap_explainer import ShapExplainer\n",
    "from darts.explainability.tft_explainer import TFTExplainer\n",
    "\n",
    "import torch\n",
    "\n",
    "plt.style.use('default')\n",
    "mpl.rcParams['figure.dpi'] = 300"
   ]
  },
  {
   "cell_type": "code",
   "execution_count": null,
   "id": "b8433b72-4a78-4de2-91c6-1ccb402d1716",
   "metadata": {
    "tags": [
     "parameters"
    ]
   },
   "outputs": [],
   "source": [
    "TARGET = 'occ'\n",
    "MODEL = 'lgbm'\n",
    "FS = 'a'\n",
    "HPO = 1\n",
    "H = 24"
   ]
  },
  {
   "cell_type": "code",
   "execution_count": null,
   "id": "dede1b41-268b-4f7e-b1a6-668a3062c45c",
   "metadata": {},
   "outputs": [],
   "source": [
    "colordict = {\n",
    "    'Target' : '#CCEEBC',\n",
    "    'Traffic' : '#8CC0DE',\n",
    "    'TA' : '#FFD9C0',\n",
    "    'Website visits' : '#FAF0D7'\n",
    "}"
   ]
  },
  {
   "cell_type": "code",
   "execution_count": null,
   "id": "f4d9e0e8-7fb0-44a8-a79d-24568dba8670",
   "metadata": {},
   "outputs": [],
   "source": [
    "inpath = here() / f'data/processed/models/{TARGET}-{MODEL}-{FS}-{HPO}.pkl'\n",
    "\n",
    "model = LightGBMModel.load(str(inpath))\n",
    "explainer = ShapExplainer(model, shap_method='tree')\n",
    "result = explainer.explain(horizons=[1,24])\n",
    "raw_values = result.get_explanation(horizon=H).pd_dataframe()"
   ]
  },
  {
   "cell_type": "code",
   "execution_count": null,
   "id": "b3e91150-a1d6-4094-88a0-9cf886c75f09",
   "metadata": {
    "tags": []
   },
   "outputs": [],
   "source": [
    "values = raw_values.abs().mean().sort_values(ascending=True)\n",
    "values = (values / values.sum()) * 100\n",
    "values = values.tail(20)\n",
    "\n",
    "# Prettify strings\n",
    "values.index = values.index.str.replace('past_cov_lag', 't')\n",
    "values.index = [x[0].upper() + x[1:] for x in values.index]\n",
    "values.index = values.index.str.replace('_', ' ')\n",
    "values.index = values.index.str.replace('pastcov', '')\n",
    "values.index = values.index.str.replace('lag', '$t')\n",
    "values.index = values.index + '$'\n",
    "values.index = values.index.str.replace('PO', 'AO')\n",
    "\n",
    "g = (37/255, 194/255, 104/255)\n",
    "r = (245/255, 50/255, 88/255)\n",
    "b = (18/255, 137/255, 223/255)\n",
    "\n",
    "values.sum()\n",
    "\n",
    "ax = values.plot.barh(width=.8, \n",
    "                      figsize=(3,5), \n",
    "                      edgecolor='k', \n",
    "                      lw=1,\n",
    "                      color='.8'\n",
    "                      #color=[colordict.get(x, '.8') for x in [x[0] for x in values.index.str.split(':')]]\n",
    "                     )\n",
    "\n",
    "# ax.set_xlabel('Mean( |SHAP value|)')\n",
    "ax.set_xlabel('Proportional Mean \\n |SHAP value| (%)')\n",
    "ax.set_ylabel('')\n",
    "ax.spines['right'].set_visible(False)\n",
    "ax.spines['top'].set_visible(False)\n",
    "ax.grid(axis='x', lw=.5, ls='--', which='both')\n",
    "ax.set_axisbelow(True)\n",
    "#ax.set_xscale('log')\n",
    "#ax.set_title(f'Horizon: {H}')\n",
    "\n",
    "plt.savefig(here() / f'output/plots/importance.jpg', \n",
    "            bbox_inches='tight',\n",
    "            dpi=300)\n",
    "\n",
    "plt.savefig(here() / f'output/plots/importance-{H}.jpg', \n",
    "            bbox_inches='tight',\n",
    "            dpi=300)"
   ]
  }
 ],
 "metadata": {
  "kernelspec": {
   "display_name": "ed-tft-3",
   "language": "python",
   "name": "ed-tft-3"
  },
  "language_info": {
   "codemirror_mode": {
    "name": "ipython",
    "version": 3
   },
   "file_extension": ".py",
   "mimetype": "text/x-python",
   "name": "python",
   "nbconvert_exporter": "python",
   "pygments_lexer": "ipython3",
   "version": "3.11.4"
  }
 },
 "nbformat": 4,
 "nbformat_minor": 5
}