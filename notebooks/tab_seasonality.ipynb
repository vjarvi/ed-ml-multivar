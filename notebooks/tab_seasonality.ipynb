{
 "cells": [
  {
   "cell_type": "code",
   "execution_count": null,
   "id": "aaff25b1-b4bc-43f2-800e-11755eba882a",
   "metadata": {},
   "outputs": [],
   "source": [
    "import pandas as pd\n",
    "from pyprojroot import here"
   ]
  },
  {
   "cell_type": "code",
   "execution_count": null,
   "id": "c051095a-6ff7-420c-82e7-b8f072b74009",
   "metadata": {},
   "outputs": [],
   "source": [
    "data = pd.read_csv(here() / 'data/interim/data.csv', parse_dates=True, index_col='datetime')"
   ]
  },
  {
   "cell_type": "code",
   "execution_count": null,
   "id": "58b43a56-f13c-4bb9-9b6c-7b6728474936",
   "metadata": {},
   "outputs": [],
   "source": [
    "y = data['Target:Occupancy']"
   ]
  },
  {
   "cell_type": "code",
   "execution_count": null,
   "id": "9333ada1-3a32-4cc3-9dfa-a47d8065505d",
   "metadata": {},
   "outputs": [],
   "source": [
    "table = y.groupby(y.index.hour).describe().round(2)\n",
    "\n",
    "table.index.name = 'Hour'\n",
    "\n",
    "table = table.drop(columns=['count'])\n",
    "\n",
    "table.columns = table.columns.str.capitalize()\n",
    "\n",
    "table.Min = table.Min.astype(int)\n",
    "table.iloc[:,3:] = table.iloc[:,3:].astype(int)\n",
    "\n",
    "table"
   ]
  },
  {
   "cell_type": "code",
   "execution_count": null,
   "id": "5c186366-7eb4-4e48-a276-a3171ffae34f",
   "metadata": {},
   "outputs": [],
   "source": [
    "bins = pd.cut(y.index.hour, \n",
    "              bins=[0,3,7,11,15,19,23], \n",
    "              include_lowest=True,\n",
    "              )\n",
    "\n",
    "_y = pd.Series(index=bins, data=y.values)\n",
    "\n",
    "table = _y.groupby(_y.index).describe()\n",
    "\n",
    "table.index = ['00:00-03:00', \n",
    "               '04:00-07:00', \n",
    "               '08:00-11:00', \n",
    "               '12:00-15:00', \n",
    "               '16:00-19:00', \n",
    "               '20:00-23:00']\n",
    "\n",
    "table.index.name = 'Hours'\n",
    "\n",
    "table = table.drop(columns=['count'])\n",
    "\n",
    "table.columns = table.columns.str.capitalize()\n",
    "\n",
    "table = table.round(2)\n",
    "\n",
    "table[['Min', '25%', '50%', '75%', 'Max']] = table[['Min', '25%', '50%', '75%', 'Max']].astype(int)"
   ]
  },
  {
   "cell_type": "code",
   "execution_count": null,
   "id": "00471658-b06a-48d9-8139-3a31b64c48b6",
   "metadata": {},
   "outputs": [],
   "source": [
    "table.to_latex(\n",
    "    buf = here() / 'output/tables/seasonality.tex',\n",
    "    column_format='rccccccc',\n",
    "    label='tab:seasonality',\n",
    "    caption='Hourly seasonality of the absolute occupancy.',\n",
    "    position='H',\n",
    "    index=True,\n",
    "    na_rep='-'\n",
    ")"
   ]
  }
 ],
 "metadata": {
  "kernelspec": {
   "display_name": "ed-tft-3",
   "language": "python",
   "name": "ed-tft-3"
  },
  "language_info": {
   "codemirror_mode": {
    "name": "ipython",
    "version": 3
   },
   "file_extension": ".py",
   "mimetype": "text/x-python",
   "name": "python",
   "nbconvert_exporter": "python",
   "pygments_lexer": "ipython3",
   "version": "3.11.4"
  }
 },
 "nbformat": 4,
 "nbformat_minor": 5
}