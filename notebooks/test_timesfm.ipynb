{
 "cells": [
  {
   "cell_type": "code",
   "execution_count": null,
   "id": "4acc836a",
   "metadata": {
    "tags": [
     "parameters"
    ]
   },
   "outputs": [],
   "source": [
    "# Parameters\n",
    "CONTEXTLENGTH = 512  # will be overridden by papermill"
   ]
  },
  {
   "cell_type": "markdown",
   "id": "9c46e88e",
   "metadata": {},
   "source": [
    "this notebook loads timesfm2.5 and makes predictions using it. Input context data is loaded from data/interim/data.csv. results are saved to data/processed/prediction_matrices/50/."
   ]
  },
  {
   "cell_type": "code",
   "execution_count": 1,
   "id": "02fd28d8",
   "metadata": {},
   "outputs": [],
   "source": [
    "import pandas as pd\n",
    "import torch\n",
    "import numpy as np\n",
    "import logging\n",
    "from pyprojroot import here\n",
    "\n",
    "import sys\n",
    "sys.path.append(str(here() / 'scripts'))\n",
    "sys.path.append(str(here() / 'timesfm'))\n",
    "\n",
    "import timesfm\n",
    "from utils import (get_data,get_y_context, save)"
   ]
  },
  {
   "cell_type": "code",
   "execution_count": null,
   "id": "44b317b7",
   "metadata": {},
   "outputs": [],
   "source": [
    "MAXMODELCONTEXT= 16384 # max context length for this model\n",
    "MAXCONTEXT = 12840 # max context length for this dataset (2017-01-01 - 2018-06-19)\n",
    "if CONTEXTLENGTH > MAXMODELCONTEXT:\n",
    "    CONTEXTLENGTH = MAXMODELCONTEXT\n",
    "\n",
    "if CONTEXTLENGTH > MAXCONTEXT:\n",
    "    CONTEXTLENGTH = MAXCONTEXT\n",
    "\n",
    "MODEL = 'timesfm'\n",
    "TARGET = 'occ'\n",
    "FEATURESET = 'u'\n",
    "TESTNAME = f'{TARGET}-{MODEL}-{FEATURESET}-{CONTEXTLENGTH}'\n",
    "TESTSTART = pd.Timestamp('20180620')\n",
    "TESTSIZE = 365*24\n",
    "PREDICTIONLENGTH = 24"
   ]
  },
  {
   "cell_type": "code",
   "execution_count": null,
   "id": "c6a903ea",
   "metadata": {},
   "outputs": [],
   "source": [
    "logging.basicConfig(\n",
    "        format='%(asctime)s - %(message)s', \n",
    "        level=logging.INFO,\n",
    "        filename=here() / f\"logs/logger/{TESTNAME}.log\",      \n",
    "        filemode='w'\n",
    "        )\n",
    "logging.info('Starting test.')\n",
    "logging.info(f'MODEL: {MODEL} TARGET: {TARGET} FEATURESET:'\n",
    "     f'{FEATURESET} CONTEXTLENGTH: {CONTEXTLENGTH}')"
   ]
  },
  {
   "cell_type": "code",
   "execution_count": 3,
   "id": "4283da3b",
   "metadata": {},
   "outputs": [],
   "source": [
    "data = get_data(TARGET, MODEL)\n",
    "cd = {\n",
    "        'occ' : 'Target:Occupancy',\n",
    "        'arr' : 'Target:Arrivals'\n",
    "    }\n",
    "target_name = cd[TARGET]\n",
    "y = data[target_name]\n",
    "y_context = get_y_context(data, TARGET, CONTEXTLENGTH, TESTSTART)\n",
    "\n",
    "y_context = y_context.to_numpy()"
   ]
  },
  {
   "cell_type": "code",
   "execution_count": 4,
   "id": "c8f62fd6",
   "metadata": {},
   "outputs": [
    {
     "name": "stderr",
     "output_type": "stream",
     "text": [
      "/home/valtti/code/ed-ml-multivar/env-timesfm/lib/python3.12/site-packages/tqdm/auto.py:21: TqdmWarning: IProgress not found. Please update jupyter and ipywidgets. See https://ipywidgets.readthedocs.io/en/stable/user_install.html\n",
      "  from .autonotebook import tqdm as notebook_tqdm\n",
      "Fetching 4 files: 100%|██████████| 4/4 [00:00<00:00, 67378.38it/s]\n"
     ]
    }
   ],
   "source": [
    "model = timesfm.TimesFM_2p5_200M_torch()\n",
    "model.load_checkpoint()"
   ]
  },
  {
   "cell_type": "code",
   "execution_count": 5,
   "id": "a75265b2",
   "metadata": {},
   "outputs": [
    {
     "name": "stdout",
     "output_type": "stream",
     "text": [
      "(365, 24)\n",
      "(365, 24, 10)\n"
     ]
    }
   ],
   "source": [
    "model.compile(\n",
    "    timesfm.ForecastConfig(\n",
    "        max_context=CONTEXTLENGTH,\n",
    "        max_horizon=PREDICTIONLENGTH,\n",
    "        normalize_inputs=True,\n",
    "        use_continuous_quantile_head=True,\n",
    "        force_flip_invariance=True,\n",
    "        infer_is_positive=True,\n",
    "        fix_quantile_crossing=True,\n",
    "    )\n",
    ")\n",
    "# list[np.ndarrays] -> tuple[np.ndarray, np.ndarray]:\n",
    "point_forecast, quantile_forecast = model.forecast(\n",
    "    horizon=24,\n",
    "    inputs=y_context\n",
    ")\n",
    "print(point_forecast.shape)  # (batch_size, 24)\n",
    "print(quantile_forecast.shape)  # (batch_size, 24, 10): mean, then 10th to 90th quantiles."
   ]
  },
  {
   "cell_type": "code",
   "execution_count": 6,
   "id": "e6fe8b00",
   "metadata": {},
   "outputs": [],
   "source": [
    "save(model_name=MODEL, featureset_name=FEATURESET, target_name=TARGET, context_length=CONTEXTLENGTH,\n",
    "    test_start=TESTSTART, y_pred=point_forecast)"
   ]
  }
 ],
 "metadata": {
  "kernelspec": {
   "display_name": "env-timesfm",
   "language": "python",
   "name": "python3"
  },
  "language_info": {
   "codemirror_mode": {
    "name": "ipython",
    "version": 3
   },
   "file_extension": ".py",
   "mimetype": "text/x-python",
   "name": "python",
   "nbconvert_exporter": "python",
   "pygments_lexer": "ipython3",
   "version": "3.12.3"
  }
 },
 "nbformat": 4,
 "nbformat_minor": 5
}
