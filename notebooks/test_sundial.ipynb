{
 "cells": [
  {
   "cell_type": "code",
   "execution_count": null,
   "id": "e61c49f6",
   "metadata": {"tags": ["parameters"]},
   "outputs": [],
   "source": [
    "# Parameters\n",
    "CONTEXTLENGTH = 512  # will be overridden by papermill"
   ]
  },
  {
   "cell_type": "markdown",
   "id": "e11b37f9",
   "metadata": {},
   "source": [
    "this notebook loads timesfm and makes predictions using it. Input context data is loaded from data/interim/data.csv. results are saved to data/processed/prediction_matrices/50/."
   ]
  },
  {
   "cell_type": "code",
   "execution_count": 1,
   "id": "375f3a57",
   "metadata": {},
   "outputs": [
    {
     "name": "stderr",
     "output_type": "stream",
     "text": [
      "/home/valtti/code/ed-ml-multivar/env-sundial/lib/python3.10/site-packages/tqdm/auto.py:21: TqdmWarning: IProgress not found. Please update jupyter and ipywidgets. See https://ipywidgets.readthedocs.io/en/stable/user_install.html\n",
      "  from .autonotebook import tqdm as notebook_tqdm\n",
      "The cache for model files in Transformers v4.22.0 has been updated. Migrating your old cache. This is a one-time only operation. You can interrupt this and resume the migration later on by calling `transformers.utils.move_cache()`.\n",
      "0it [00:00, ?it/s]\n"
     ]
    }
   ],
   "source": [
    "import pandas as pd\n",
    "import torch\n",
    "import numpy as np\n",
    "import logging\n",
    "from pyprojroot import here\n",
    "\n",
    "import sys\n",
    "sys.path.append(str(here() / 'scripts'))\n",
    "#sys.path.append(str(here() / 'timesfm'))\n",
    "\n",
    "from transformers import AutoModelForCausalLM\n",
    "from utils import (get_data,get_y_context, save)"
   ]
  },
  {
   "cell_type": "code",
   "execution_count": null,
   "id": "eb4e039a",
   "metadata": {},
   "outputs": [],
   "source": [
    "MAXMODELCONTEXT= 2880 # max context length for this model\n",
    "MAXCONTEXT = 12840 # max context length for this dataset (2017-01-01 - 2018-06-19)\n",
    "if CONTEXTLENGTH > MAXMODELCONTEXT:\n",
    "    CONTEXTLENGTH = MAXMODELCONTEXT\n",
    "\n",
    "if CONTEXTLENGTH > MAXCONTEXT:\n",
    "    CONTEXTLENGTH = MAXCONTEXT\n",
    "\n",
    "MODEL = 'sundial'\n",
    "TARGET = 'occ'\n",
    "FEATURESET = 'u'\n",
    "TESTNAME = f'{TARGET}-{MODEL}-{FEATURESET}-{CONTEXTLENGTH}'\n",
    "TESTSTART = pd.Timestamp('20180620')\n",
    "TESTSIZE = 365*24\n",
    "PREDICTIONLENGTH = 24"
   ]
  },
  {
   "cell_type": "code",
   "execution_count": null,
   "id": "b8d1d2a8",
   "metadata": {},
   "outputs": [],
   "source": [
    "logging.basicConfig(\n",
    "        format='%(asctime)s - %(message)s', \n",
    "        level=logging.INFO,\n",
    "        filename=here() / f\"logs/logger/{TESTNAME}.log\",      \n",
    "        filemode='w'\n",
    "        )\n",
    "logging.info('Starting test.')\n",
    "logging.info(f'MODEL: {MODEL} TARGET: {TARGET} FEATURESET:'\n",
    "     f'{FEATURESET} CONTEXTLENGTH: {CONTEXTLENGTH}')"
   ]
  },
  {
   "cell_type": "code",
   "execution_count": null,
   "id": "abe62543",
   "metadata": {},
   "outputs": [
    {
     "data": {
      "text/plain": [
       "torch.float32"
      ]
     },
     "execution_count": 10,
     "metadata": {},
     "output_type": "execute_result"
    }
   ],
   "source": [
    "data = get_data(TARGET, MODEL)\n",
    "cd = {\n",
    "        'occ' : 'Target:Occupancy',\n",
    "        'arr' : 'Target:Arrivals'\n",
    "    }\n",
    "target_name = cd[TARGET]\n",
    "y = data[target_name]\n",
    "y_context = get_y_context(data, TARGET, CONTEXTLENGTH, TESTSTART).astype(np.float32)\n",
    "\n",
    "y_context = torch.from_numpy(y_context.to_numpy())"
   ]
  },
  {
   "cell_type": "code",
   "execution_count": 5,
   "id": "975b1e14",
   "metadata": {},
   "outputs": [
    {
     "name": "stderr",
     "output_type": "stream",
     "text": [
      "/home/valtti/code/ed-ml-multivar/env-sundial/lib/python3.10/site-packages/huggingface_hub/file_download.py:945: FutureWarning: `resume_download` is deprecated and will be removed in version 1.0.0. Downloads always resume when possible. If you want to force a new download, use `force_download=True`.\n",
      "  warnings.warn(\n",
      "A new version of the following files was downloaded from https://huggingface.co/thuml/sundial-base-128m:\n",
      "- configuration_sundial.py\n",
      ". Make sure to double-check they do not contain any added malicious code. To avoid downloading new versions of the code file, you can pin a revision.\n",
      "A new version of the following files was downloaded from https://huggingface.co/thuml/sundial-base-128m:\n",
      "- ts_generation_mixin.py\n",
      ". Make sure to double-check they do not contain any added malicious code. To avoid downloading new versions of the code file, you can pin a revision.\n",
      "A new version of the following files was downloaded from https://huggingface.co/thuml/sundial-base-128m:\n",
      "- flow_loss.py\n",
      ". Make sure to double-check they do not contain any added malicious code. To avoid downloading new versions of the code file, you can pin a revision.\n",
      "A new version of the following files was downloaded from https://huggingface.co/thuml/sundial-base-128m:\n",
      "- modeling_sundial.py\n",
      "- ts_generation_mixin.py\n",
      "- flow_loss.py\n",
      ". Make sure to double-check they do not contain any added malicious code. To avoid downloading new versions of the code file, you can pin a revision.\n"
     ]
    }
   ],
   "source": [
    "model = AutoModelForCausalLM.from_pretrained('thuml/sundial-base-128m', trust_remote_code=True)"
   ]
  },
  {
   "cell_type": "code",
   "execution_count": null,
   "id": "ed01dbf3",
   "metadata": {},
   "outputs": [],
   "source": [
    "num_samples = 100\n",
    "forecast = model.generate(y_context, max_new_tokens=PREDICTIONLENGTH, num_samples=num_samples) # (batch_size, samples, horizon)"
   ]
  },
  {
   "cell_type": "code",
   "execution_count": 25,
   "id": "1137f57e",
   "metadata": {},
   "outputs": [],
   "source": [
    "y_mean = torch.mean(forecast, dim=1)\n",
    "save(model_name=MODEL, featureset_name=FEATURESET, target_name=TARGET, context_length=CONTEXTLENGTH,\n",
    "    test_start=TESTSTART, y_pred=y_mean)"
   ]
  }
 ],
 "metadata": {
  "kernelspec": {
   "display_name": "env-sundial",
   "language": "python",
   "name": "python3"
  },
  "language_info": {
   "codemirror_mode": {
    "name": "ipython",
    "version": 3
   },
   "file_extension": ".py",
   "mimetype": "text/x-python",
   "name": "python",
   "nbconvert_exporter": "python",
   "pygments_lexer": "ipython3",
   "version": "3.10.0"
  }
 },
 "nbformat": 4,
 "nbformat_minor": 5
}
